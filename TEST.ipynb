{
  "nbformat": 4,
  "nbformat_minor": 0,
  "metadata": {
    "accelerator": "GPU",
    "colab": {
      "name": "TEST.ipynb",
      "provenance": [],
      "collapsed_sections": [],
      "machine_shape": "hm",
      "authorship_tag": "ABX9TyN+5EjstFKA0//U8LPR4wKd"
    },
    "kernelspec": {
      "display_name": "Python 3",
      "name": "python3"
    }
  },
  "cells": [
    {
      "cell_type": "code",
      "metadata": {
        "id": "WeivjdYTfed2",
        "colab": {
          "base_uri": "https://localhost:8080/"
        },
        "outputId": "6c67fc0a-cd4c-4462-a03e-2c06a7c59fc7"
      },
      "source": [
        "from google.colab import drive\n",
        "drive.mount('/gdrive')"
      ],
      "execution_count": null,
      "outputs": [
        {
          "output_type": "stream",
          "text": [
            "Mounted at /gdrive\n"
          ],
          "name": "stdout"
        }
      ]
    },
    {
      "cell_type": "markdown",
      "metadata": {
        "id": "q1xrFf-87VZB"
      },
      "source": [
        "**EDA**"
      ]
    },
    {
      "cell_type": "code",
      "metadata": {
        "colab": {
          "base_uri": "https://localhost:8080/",
          "height": 330
        },
        "id": "MnBsN7CE5Y11",
        "outputId": "f1a3cefe-b205-484e-d15b-2492c2bfe570"
      },
      "source": [
        "import pandas as pd\n",
        "import matplotlib.pyplot as plt\n",
        "\n",
        "news_dataset_path = r\"/gdrive/My Drive/한양대학교/NH투자증권 빅데이터 경진대회/data/news_train.csv\"\n",
        "\n",
        "news_dataset = pd.read_csv(news_dataset_path)\n",
        "\n",
        "del news_dataset[\"n_id\"]\n",
        "del news_dataset[\"date\"]\n",
        "del news_dataset[\"title\"]\n",
        "del news_dataset[\"ord\"]\n",
        "\n",
        "news_dataset = news_dataset[news_dataset[\"content\"]!=\"데이터에서 찾은 AI 속보\"]\n",
        "news_dataset = news_dataset[news_dataset[\"content\"]!=\"씨에스윈드, 193억 원 규모 윈드타워 공급계약 체결\"]\n",
        "news_dataset = news_dataset[news_dataset[\"content\"]!=\"씨에스윈드, 1분기 영업이익 158억 원전년비 16.1%\"]\n",
        "\n",
        "news_dataset = news_dataset.drop_duplicates()\n",
        "\n",
        "print('문장의 개수 :', str(len(news_dataset))+'문장')\n",
        "print('문장의 최대 길이 :', str(max(len(l) for l in news_dataset['content']))+'글자')\n",
        "print('문장의 평균 길이 :', str(round(sum(map(len, news_dataset['content'])) / len(news_dataset['content'])))+'글자')\n",
        "\n",
        "plt.hist([len(s) for s in news_dataset['content']], bins=300)\n",
        "plt.xlim(0,300)\n",
        "plt.xlabel('length of Data')\n",
        "plt.ylabel('number of Data')\n",
        "plt.show()"
      ],
      "execution_count": 63,
      "outputs": [
        {
          "output_type": "stream",
          "text": [
            "문장의 개수 : 46158문장\n",
            "문장의 최대 길이 : 3469글자\n",
            "문장의 평균 길이 : 63글자\n"
          ],
          "name": "stdout"
        },
        {
          "output_type": "display_data",
          "data": {
            "image/png": "[encoded data removed]",
            "text/plain": [
              "<Figure size 432x288 with 1 Axes>"
            ]
          },
          "metadata": {
            "tags": [],
            "needs_background": "light"
          }
        }
      ]
    },
    {
      "cell_type": "markdown",
      "metadata": {
        "id": "kendFlku7pI1"
      },
      "source": [
        "**Data Preprocessing**"
      ]
    },
    {
      "cell_type": "code",
      "metadata": {
        "id": "7a6JRqCn7vPy"
      },
      "source": [
        ""
      ],
      "execution_count": null,
      "outputs": []
    },
    {
      "cell_type": "markdown",
      "metadata": {
        "id": "E14jRTz57Y8P"
      },
      "source": [
        "**MODEL**"
      ]
    },
    {
      "cell_type": "code",
      "metadata": {
        "id": "jVyipihjfxER",
        "colab": {
          "base_uri": "https://localhost:8080/",
          "height": 1000
        },
        "outputId": "02eeaa9b-c8a1-48fd-e73a-c6289128227e"
      },
      "source": [
        "import pandas as pd\n",
        "import matplotlib.pyplot as plt\n",
        "import tensorflow as tf\n",
        "from tensorflow.keras.preprocessing import sequence\n",
        "from tensorflow.keras.models import Sequential\n",
        "from tensorflow.keras.layers import Dense, Dropout, Activation, Embedding, Reshape, Conv2D, GlobalMaxPooling2D\n",
        "from tensorflow.keras import optimizers\n",
        "from tensorflow.keras.utils import to_categorical\n",
        "from tensorflow.keras.callbacks import EarlyStopping\n",
        "from sklearn.preprocessing import LabelEncoder; LE = LabelEncoder()\n",
        "from imblearn.over_sampling import RandomOverSampler\n",
        "\n",
        "def convert_to_ord(data):\n",
        "    try:\n",
        "        return [ord(xx) for xx in data]\n",
        "    except:\n",
        "        print(data)\n",
        "\n",
        "def conv2d_cnn():\n",
        "    model = Sequential()\n",
        "    model.add(Embedding(input_dim=2**16, output_dim=output_dim, input_length=max_len))\n",
        "    model.add(Reshape((max_len, output_dim, 1), input_shape=(max_len, output_dim)))\n",
        "    model.add(Conv2D(filters=filters, kernel_size=(kernel_size, output_dim), strides=(1, 1), padding='valid'))\n",
        "    model.add(GlobalMaxPooling2D())\n",
        "\n",
        "    model.add(Dense(2**3))\n",
        "    model.add(Activation('relu'))\n",
        "    model.add(Dropout(0.2))\n",
        "\n",
        "    model.add(Dense(2**3))\n",
        "    model.add(Activation('relu'))\n",
        "    model.add(Dropout(0.2))\n",
        "\n",
        "    model.add(Dense(2**3))\n",
        "    model.add(Activation('relu'))\n",
        "    model.add(Dropout(0.2))\n",
        "\n",
        "    model.add(Dense(2))\n",
        "    model.add(Activation('sigmoid'))\n",
        "    adam = optimizers.Adam(lr=0.0001)\n",
        "    model.compile(loss='binary_crossentropy', optimizer=adam, metrics=['accuracy'])\n",
        "    model.summary()\n",
        "    early_stopping = EarlyStopping(monitor=\"val_accuracy\", patience=10)\n",
        "    history = model.fit(x_train, y_train, validation_split=0.2, epochs=epochs, batch_size=batch_size, verbose=1, callbacks=[early_stopping])\n",
        "\n",
        "    return model, history\n",
        "\n",
        "if __name__ == \"__main__\":\n",
        "    max_len = 300\n",
        "    output_dim = 400\n",
        "    filters = 400\n",
        "    kernel_size = 5\n",
        "    epochs = 2**10\n",
        "    batch_size = 2**10\n",
        "\n",
        "    news_dataset_path = r\"/gdrive/My Drive/한양대학교/NH투자증권 빅데이터 경진대회/data/news_train.csv\"\n",
        "\n",
        "    news_dataset = pd.read_csv(news_dataset_path)\n",
        "\n",
        "    del news_dataset[\"n_id\"]\n",
        "    del news_dataset[\"date\"]\n",
        "    del news_dataset[\"title\"]\n",
        "    del news_dataset[\"ord\"]\n",
        "\n",
        "    news_dataset = news_dataset[news_dataset[\"content\"]!=\"데이터에서 찾은 AI 속보\"]\n",
        "    news_dataset = news_dataset[news_dataset[\"content\"]!=\"씨에스윈드, 193억 원 규모 윈드타워 공급계약 체결\"]\n",
        "    news_dataset = news_dataset[news_dataset[\"content\"]!=\"씨에스윈드, 1분기 영업이익 158억 원전년비 16.1%\"]\n",
        "\n",
        "    news_dataset = news_dataset.drop_duplicates()\n",
        "\n",
        "    news_dataset['content'] = news_dataset['content'].map(convert_to_ord)\n",
        "    news_dataset['info'] = LE.fit_transform(news_dataset['info'])\n",
        "\n",
        "    x_train = sequence.pad_sequences(news_dataset['content'], maxlen=max_len)\n",
        "\n",
        "    y_train = news_dataset['info']\n",
        "\n",
        "    ros = RandomOverSampler(random_state=42)\n",
        "    x_train, y_train = ros.fit_resample(x_train, news_dataset['info'])\n",
        "\n",
        "    y_train = to_categorical(y_train)\n",
        "\n",
        "    print('train_shape : {} / {}'.format(x_train.shape, y_train.shape))\n",
        "\n",
        "    with tf.device('/device:GPU:0'):\n",
        "        model, history = conv2d_cnn()\n",
        "\n",
        "    model.save('/gdrive/My Drive/한양대학교/NH투자증권 빅데이터 경진대회/model/news_model.h5')\n",
        "\n",
        "    acc = history.history['accuracy']\n",
        "    val_acc = history.history['val_accuracy']\n",
        "    loss = history.history['loss']\n",
        "    val_loss = history.history['val_loss']\n",
        "    epochs = range(1, len(acc) + 1)\n",
        "\n",
        "    plt.plot(epochs, loss, 'r', label='Training loss')\n",
        "    plt.plot(epochs, val_loss, 'b', label='Validation loss')\n",
        "    plt.title('Training and validation loss')\n",
        "    plt.xlabel('Epochs')\n",
        "    plt.ylabel('Loss')\n",
        "    plt.legend()\n",
        "    plt.figure()\n",
        "    plt.plot(epochs, acc, 'r', label='Training acc')\n",
        "    plt.plot(epochs, val_acc, 'b', label='Validation acc')\n",
        "    plt.title('Training and validation accuracy')\n",
        "    plt.xlabel('Epochs')\n",
        "    plt.ylabel('Accuracy')\n",
        "    plt.legend()\n",
        "    plt.show()"
      ],
      "execution_count": 72,
      "outputs": [
        {
          "output_type": "stream",
          "text": [
            "/usr/local/lib/python3.6/dist-packages/sklearn/utils/deprecation.py:87: FutureWarning: Function safe_indexing is deprecated; safe_indexing is deprecated in version 0.22 and will be removed in version 0.24.\n",
            "  warnings.warn(msg, category=FutureWarning)\n"
          ],
          "name": "stderr"
        },
        {
          "output_type": "stream",
          "text": [
            "train_shape : (80734, 300) / (80734, 2)\n",
            "Model: \"sequential_9\"\n",
            "_________________________________________________________________\n",
            "Layer (type)                 Output Shape              Param #   \n",
            "=================================================================\n",
            "embedding_9 (Embedding)      (None, 300, 400)          26214400  \n",
            "_________________________________________________________________\n",
            "reshape_9 (Reshape)          (None, 300, 400, 1)       0         \n",
            "_________________________________________________________________\n",
            "conv2d_9 (Conv2D)            (None, 296, 1, 400)       800400    \n",
            "_________________________________________________________________\n",
            "global_max_pooling2d_9 (Glob (None, 400)               0         \n",
            "_________________________________________________________________\n",
            "dense_36 (Dense)             (None, 8)                 3208      \n",
            "_________________________________________________________________\n",
            "activation_36 (Activation)   (None, 8)                 0         \n",
            "_________________________________________________________________\n",
            "dropout_27 (Dropout)         (None, 8)                 0         \n",
            "_________________________________________________________________\n",
            "dense_37 (Dense)             (None, 8)                 72        \n",
            "_________________________________________________________________\n",
            "activation_37 (Activation)   (None, 8)                 0         \n",
            "_________________________________________________________________\n",
            "dropout_28 (Dropout)         (None, 8)                 0         \n",
            "_________________________________________________________________\n",
            "dense_38 (Dense)             (None, 8)                 72        \n",
            "_________________________________________________________________\n",
            "activation_38 (Activation)   (None, 8)                 0         \n",
            "_________________________________________________________________\n",
            "dropout_29 (Dropout)         (None, 8)                 0         \n",
            "_________________________________________________________________\n",
            "dense_39 (Dense)             (None, 2)                 18        \n",
            "_________________________________________________________________\n",
            "activation_39 (Activation)   (None, 2)                 0         \n",
            "=================================================================\n",
            "Total params: 27,018,170\n",
            "Trainable params: 27,018,170\n",
            "Non-trainable params: 0\n",
            "_________________________________________________________________\n",
            "Epoch 1/1024\n",
            "64/64 [==============================] - 28s 435ms/step - loss: 0.6905 - accuracy: 0.7284 - val_loss: 0.6810 - val_accuracy: 0.9368\n",
            "Epoch 2/1024\n",
            "64/64 [==============================] - 28s 433ms/step - loss: 0.6778 - accuracy: 0.7497 - val_loss: 0.6670 - val_accuracy: 0.9138\n",
            "Epoch 3/1024\n",
            "64/64 [==============================] - 28s 432ms/step - loss: 0.6634 - accuracy: 0.7589 - val_loss: 0.6609 - val_accuracy: 0.9286\n",
            "Epoch 4/1024\n",
            "64/64 [==============================] - 28s 431ms/step - loss: 0.6420 - accuracy: 0.8045 - val_loss: 0.6147 - val_accuracy: 0.9277\n",
            "Epoch 5/1024\n",
            "64/64 [==============================] - 28s 434ms/step - loss: 0.6151 - accuracy: 0.8231 - val_loss: 0.5645 - val_accuracy: 0.9348\n",
            "Epoch 6/1024\n",
            "64/64 [==============================] - 28s 431ms/step - loss: 0.5832 - accuracy: 0.8155 - val_loss: 0.4853 - val_accuracy: 0.9402\n",
            "Epoch 7/1024\n",
            "64/64 [==============================] - 28s 431ms/step - loss: 0.5551 - accuracy: 0.8545 - val_loss: 0.4370 - val_accuracy: 0.9465\n",
            "Epoch 8/1024\n",
            "64/64 [==============================] - 28s 432ms/step - loss: 0.5313 - accuracy: 0.8795 - val_loss: 0.4032 - val_accuracy: 0.9456\n",
            "Epoch 9/1024\n",
            "64/64 [==============================] - 28s 433ms/step - loss: 0.5078 - accuracy: 0.8844 - val_loss: 0.3615 - val_accuracy: 0.9527\n",
            "Epoch 10/1024\n",
            "64/64 [==============================] - 28s 433ms/step - loss: 0.4810 - accuracy: 0.8860 - val_loss: 0.3296 - val_accuracy: 0.9542\n",
            "Epoch 11/1024\n",
            "64/64 [==============================] - 28s 433ms/step - loss: 0.4482 - accuracy: 0.8967 - val_loss: 0.2963 - val_accuracy: 0.9510\n",
            "Epoch 12/1024\n",
            "64/64 [==============================] - 28s 434ms/step - loss: 0.4236 - accuracy: 0.9081 - val_loss: 0.2711 - val_accuracy: 0.9557\n",
            "Epoch 13/1024\n",
            "64/64 [==============================] - 28s 433ms/step - loss: 0.4002 - accuracy: 0.9121 - val_loss: 0.2479 - val_accuracy: 0.9590\n",
            "Epoch 14/1024\n",
            "64/64 [==============================] - 28s 431ms/step - loss: 0.3807 - accuracy: 0.9209 - val_loss: 0.2190 - val_accuracy: 0.9654\n",
            "Epoch 15/1024\n",
            "64/64 [==============================] - 28s 434ms/step - loss: 0.3593 - accuracy: 0.9243 - val_loss: 0.1992 - val_accuracy: 0.9678\n",
            "Epoch 16/1024\n",
            "64/64 [==============================] - 28s 433ms/step - loss: 0.3440 - accuracy: 0.9279 - val_loss: 0.1847 - val_accuracy: 0.9696\n",
            "Epoch 17/1024\n",
            "64/64 [==============================] - 28s 433ms/step - loss: 0.3283 - accuracy: 0.9330 - val_loss: 0.1640 - val_accuracy: 0.9728\n",
            "Epoch 18/1024\n",
            "64/64 [==============================] - 28s 435ms/step - loss: 0.3138 - accuracy: 0.9401 - val_loss: 0.1539 - val_accuracy: 0.9743\n",
            "Epoch 19/1024\n",
            "64/64 [==============================] - 28s 431ms/step - loss: 0.3038 - accuracy: 0.9424 - val_loss: 0.1528 - val_accuracy: 0.9739\n",
            "Epoch 20/1024\n",
            "64/64 [==============================] - 28s 433ms/step - loss: 0.2913 - accuracy: 0.9438 - val_loss: 0.1278 - val_accuracy: 0.9782\n",
            "Epoch 21/1024\n",
            "64/64 [==============================] - 28s 432ms/step - loss: 0.2813 - accuracy: 0.9469 - val_loss: 0.1237 - val_accuracy: 0.9780\n",
            "Epoch 22/1024\n",
            "64/64 [==============================] - 28s 432ms/step - loss: 0.2694 - accuracy: 0.9525 - val_loss: 0.1181 - val_accuracy: 0.9789\n",
            "Epoch 23/1024\n",
            "64/64 [==============================] - 28s 433ms/step - loss: 0.2605 - accuracy: 0.9561 - val_loss: 0.1075 - val_accuracy: 0.9811\n",
            "Epoch 24/1024\n",
            "64/64 [==============================] - 28s 434ms/step - loss: 0.2502 - accuracy: 0.9597 - val_loss: 0.1028 - val_accuracy: 0.9814\n",
            "Epoch 25/1024\n",
            "64/64 [==============================] - 28s 433ms/step - loss: 0.2431 - accuracy: 0.9611 - val_loss: 0.1011 - val_accuracy: 0.9819\n",
            "Epoch 26/1024\n",
            "64/64 [==============================] - 28s 433ms/step - loss: 0.2354 - accuracy: 0.9632 - val_loss: 0.0847 - val_accuracy: 0.9843\n",
            "Epoch 27/1024\n",
            "64/64 [==============================] - 28s 432ms/step - loss: 0.2281 - accuracy: 0.9643 - val_loss: 0.0888 - val_accuracy: 0.9840\n",
            "Epoch 28/1024\n",
            "64/64 [==============================] - 28s 431ms/step - loss: 0.2206 - accuracy: 0.9640 - val_loss: 0.0731 - val_accuracy: 0.9873\n",
            "Epoch 29/1024\n",
            "64/64 [==============================] - 28s 432ms/step - loss: 0.2125 - accuracy: 0.9669 - val_loss: 0.0657 - val_accuracy: 0.9878\n",
            "Epoch 30/1024\n",
            "64/64 [==============================] - 28s 432ms/step - loss: 0.2058 - accuracy: 0.9697 - val_loss: 0.0675 - val_accuracy: 0.9879\n",
            "Epoch 31/1024\n",
            "64/64 [==============================] - 28s 432ms/step - loss: 0.1952 - accuracy: 0.9713 - val_loss: 0.0581 - val_accuracy: 0.9889\n",
            "Epoch 32/1024\n",
            "64/64 [==============================] - 28s 434ms/step - loss: 0.1919 - accuracy: 0.9739 - val_loss: 0.0504 - val_accuracy: 0.9906\n",
            "Epoch 33/1024\n",
            "64/64 [==============================] - 28s 432ms/step - loss: 0.1845 - accuracy: 0.9761 - val_loss: 0.0437 - val_accuracy: 0.9915\n",
            "Epoch 34/1024\n",
            "64/64 [==============================] - 28s 432ms/step - loss: 0.1791 - accuracy: 0.9796 - val_loss: 0.0450 - val_accuracy: 0.9910\n",
            "Epoch 35/1024\n",
            "64/64 [==============================] - 28s 431ms/step - loss: 0.1728 - accuracy: 0.9824 - val_loss: 0.0393 - val_accuracy: 0.9926\n",
            "Epoch 36/1024\n",
            "64/64 [==============================] - 28s 430ms/step - loss: 0.1677 - accuracy: 0.9841 - val_loss: 0.0418 - val_accuracy: 0.9916\n",
            "Epoch 37/1024\n",
            "64/64 [==============================] - 28s 431ms/step - loss: 0.1613 - accuracy: 0.9848 - val_loss: 0.0320 - val_accuracy: 0.9929\n",
            "Epoch 38/1024\n",
            "64/64 [==============================] - 28s 433ms/step - loss: 0.1570 - accuracy: 0.9858 - val_loss: 0.0309 - val_accuracy: 0.9937\n",
            "Epoch 39/1024\n",
            "64/64 [==============================] - 28s 431ms/step - loss: 0.1527 - accuracy: 0.9864 - val_loss: 0.0290 - val_accuracy: 0.9937\n",
            "Epoch 40/1024\n",
            "64/64 [==============================] - 28s 433ms/step - loss: 0.1507 - accuracy: 0.9874 - val_loss: 0.0250 - val_accuracy: 0.9939\n",
            "Epoch 41/1024\n",
            "64/64 [==============================] - 28s 432ms/step - loss: 0.1481 - accuracy: 0.9882 - val_loss: 0.0286 - val_accuracy: 0.9937\n",
            "Epoch 42/1024\n",
            "64/64 [==============================] - 28s 433ms/step - loss: 0.1406 - accuracy: 0.9897 - val_loss: 0.0214 - val_accuracy: 0.9949\n",
            "Epoch 43/1024\n",
            "64/64 [==============================] - 28s 433ms/step - loss: 0.1375 - accuracy: 0.9900 - val_loss: 0.0192 - val_accuracy: 0.9950\n",
            "Epoch 44/1024\n",
            "64/64 [==============================] - 28s 431ms/step - loss: 0.1333 - accuracy: 0.9902 - val_loss: 0.0204 - val_accuracy: 0.9950\n",
            "Epoch 45/1024\n",
            "64/64 [==============================] - 28s 432ms/step - loss: 0.1299 - accuracy: 0.9903 - val_loss: 0.0171 - val_accuracy: 0.9959\n",
            "Epoch 46/1024\n",
            "64/64 [==============================] - 28s 435ms/step - loss: 0.1268 - accuracy: 0.9913 - val_loss: 0.0166 - val_accuracy: 0.9964\n",
            "Epoch 47/1024\n",
            "64/64 [==============================] - 28s 431ms/step - loss: 0.1259 - accuracy: 0.9919 - val_loss: 0.0144 - val_accuracy: 0.9966\n",
            "Epoch 48/1024\n",
            "64/64 [==============================] - 28s 433ms/step - loss: 0.1241 - accuracy: 0.9919 - val_loss: 0.0155 - val_accuracy: 0.9966\n",
            "Epoch 49/1024\n",
            "64/64 [==============================] - 28s 432ms/step - loss: 0.1196 - accuracy: 0.9921 - val_loss: 0.0182 - val_accuracy: 0.9962\n",
            "Epoch 50/1024\n",
            "64/64 [==============================] - 28s 433ms/step - loss: 0.1185 - accuracy: 0.9923 - val_loss: 0.0131 - val_accuracy: 0.9969\n",
            "Epoch 51/1024\n",
            "64/64 [==============================] - 28s 433ms/step - loss: 0.1152 - accuracy: 0.9929 - val_loss: 0.0142 - val_accuracy: 0.9972\n",
            "Epoch 52/1024\n",
            "64/64 [==============================] - 28s 434ms/step - loss: 0.1114 - accuracy: 0.9930 - val_loss: 0.0115 - val_accuracy: 0.9972\n",
            "Epoch 53/1024\n",
            "64/64 [==============================] - 28s 432ms/step - loss: 0.1110 - accuracy: 0.9933 - val_loss: 0.0112 - val_accuracy: 0.9974\n",
            "Epoch 54/1024\n",
            "64/64 [==============================] - 28s 433ms/step - loss: 0.1079 - accuracy: 0.9937 - val_loss: 0.0103 - val_accuracy: 0.9976\n",
            "Epoch 55/1024\n",
            "64/64 [==============================] - 28s 432ms/step - loss: 0.1069 - accuracy: 0.9935 - val_loss: 0.0089 - val_accuracy: 0.9976\n",
            "Epoch 56/1024\n",
            "64/64 [==============================] - 28s 432ms/step - loss: 0.1037 - accuracy: 0.9942 - val_loss: 0.0089 - val_accuracy: 0.9977\n",
            "Epoch 57/1024\n",
            "64/64 [==============================] - 28s 435ms/step - loss: 0.1029 - accuracy: 0.9933 - val_loss: 0.0093 - val_accuracy: 0.9980\n",
            "Epoch 58/1024\n",
            "64/64 [==============================] - 28s 433ms/step - loss: 0.0985 - accuracy: 0.9942 - val_loss: 0.0076 - val_accuracy: 0.9981\n",
            "Epoch 59/1024\n",
            "64/64 [==============================] - 28s 433ms/step - loss: 0.0989 - accuracy: 0.9936 - val_loss: 0.0081 - val_accuracy: 0.9981\n",
            "Epoch 60/1024\n",
            "64/64 [==============================] - 28s 431ms/step - loss: 0.0960 - accuracy: 0.9944 - val_loss: 0.0071 - val_accuracy: 0.9981\n",
            "Epoch 61/1024\n",
            "64/64 [==============================] - 28s 432ms/step - loss: 0.0951 - accuracy: 0.9943 - val_loss: 0.0073 - val_accuracy: 0.9983\n",
            "Epoch 62/1024\n",
            "64/64 [==============================] - 28s 433ms/step - loss: 0.0941 - accuracy: 0.9946 - val_loss: 0.0070 - val_accuracy: 0.9983\n",
            "Epoch 63/1024\n",
            "64/64 [==============================] - 28s 436ms/step - loss: 0.0912 - accuracy: 0.9943 - val_loss: 0.0071 - val_accuracy: 0.9983\n",
            "Epoch 64/1024\n",
            "64/64 [==============================] - 28s 433ms/step - loss: 0.0900 - accuracy: 0.9946 - val_loss: 0.0067 - val_accuracy: 0.9983\n",
            "Epoch 65/1024\n",
            "64/64 [==============================] - 28s 434ms/step - loss: 0.0871 - accuracy: 0.9949 - val_loss: 0.0062 - val_accuracy: 0.9987\n",
            "Epoch 66/1024\n",
            "64/64 [==============================] - 28s 434ms/step - loss: 0.0873 - accuracy: 0.9950 - val_loss: 0.0060 - val_accuracy: 0.9987\n",
            "Epoch 67/1024\n",
            "64/64 [==============================] - 28s 433ms/step - loss: 0.0838 - accuracy: 0.9952 - val_loss: 0.0063 - val_accuracy: 0.9987\n",
            "Epoch 68/1024\n",
            "64/64 [==============================] - 28s 433ms/step - loss: 0.0742 - accuracy: 0.9953 - val_loss: 0.0067 - val_accuracy: 0.9987\n",
            "Epoch 69/1024\n",
            "64/64 [==============================] - 28s 431ms/step - loss: 0.0714 - accuracy: 0.9949 - val_loss: 0.0064 - val_accuracy: 0.9987\n",
            "Epoch 70/1024\n",
            "64/64 [==============================] - 28s 431ms/step - loss: 0.0669 - accuracy: 0.9952 - val_loss: 0.0067 - val_accuracy: 0.9987\n",
            "Epoch 71/1024\n",
            "64/64 [==============================] - 28s 433ms/step - loss: 0.0646 - accuracy: 0.9950 - val_loss: 0.0069 - val_accuracy: 0.9987\n",
            "Epoch 72/1024\n",
            "64/64 [==============================] - 28s 433ms/step - loss: 0.0615 - accuracy: 0.9952 - val_loss: 0.0072 - val_accuracy: 0.9987\n",
            "Epoch 73/1024\n",
            "64/64 [==============================] - 28s 435ms/step - loss: 0.0586 - accuracy: 0.9951 - val_loss: 0.0071 - val_accuracy: 0.9987\n",
            "Epoch 74/1024\n",
            "64/64 [==============================] - 28s 433ms/step - loss: 0.0577 - accuracy: 0.9950 - val_loss: 0.0064 - val_accuracy: 0.9987\n",
            "Epoch 75/1024\n",
            "64/64 [==============================] - 28s 433ms/step - loss: 0.0543 - accuracy: 0.9954 - val_loss: 0.0073 - val_accuracy: 0.9987\n"
          ],
          "name": "stdout"
        },
        {
          "output_type": "display_data",
          "data": {
            "image/png": "[encoded data removed]",
            "text/plain": [
              "<Figure size 432x288 with 1 Axes>"
            ]
          },
          "metadata": {
            "tags": [],
            "needs_background": "light"
          }
        },
        {
          "output_type": "display_data",
          "data": {
            "image/png": "[encoded data removed]",
            "text/plain": [
              "<Figure size 432x288 with 1 Axes>"
            ]
          },
          "metadata": {
            "tags": [],
            "needs_background": "light"
          }
        }
      ]
    },
    {
      "cell_type": "code",
      "metadata": {
        "id": "iegNXRVmU6W3",
        "colab": {
          "base_uri": "https://localhost:8080/"
        },
        "outputId": "d9029a3c-8ee6-4f4b-8284-5d38d22dd637"
      },
      "source": [
        "import pandas as pd\n",
        "import numpy as np\n",
        "from tensorflow.keras.preprocessing import sequence\n",
        "from tensorflow.keras.models import load_model\n",
        "\n",
        "def convert_to_ord(data):\n",
        "    try:\n",
        "        return [ord(xx) for xx in data]\n",
        "    except:\n",
        "        print(data)\n",
        "\n",
        "news_dataset_test = pd.read_csv(\"/gdrive/My Drive/한양대학교/NH투자증권 빅데이터 경진대회/data/news_test.csv\")\n",
        "del news_dataset_test[\"n_id\"]\n",
        "del news_dataset_test[\"date\"]\n",
        "del news_dataset_test[\"title\"]\n",
        "del news_dataset_test[\"ord\"]\n",
        "\n",
        "model = load_model('/gdrive/My Drive/한양대학교/NH투자증권 빅데이터 경진대회/model/news_model.h5')\n",
        "\n",
        "x_test = sequence.pad_sequences(news_dataset_test['content'].map(convert_to_ord), maxlen=300)\n",
        "\n",
        "news_dataset_test[\"info\"] = model.predict_classes(x_test)\n",
        "\n",
        "print(news_dataset_test.groupby(\"info\").size())"
      ],
      "execution_count": 73,
      "outputs": [
        {
          "output_type": "stream",
          "text": [
            "info\n",
            "0    88169\n",
            "1    54396\n",
            "dtype: int64\n"
          ],
          "name": "stdout"
        }
      ]
    },
    {
      "cell_type": "code",
      "metadata": {
        "id": "2-W_Tq75-3WX",
        "colab": {
          "base_uri": "https://localhost:8080/"
        },
        "outputId": "ed7467ae-fc4c-497c-fc01-50cd07e47fb5"
      },
      "source": [
        "news_dataset_train = pd.read_csv(\"/gdrive/My Drive/한양대학교/NH투자증권 빅데이터 경진대회/data/news_train.csv\")\n",
        "del news_dataset_train[\"n_id\"]\n",
        "del news_dataset_train[\"date\"]\n",
        "del news_dataset_train[\"title\"]\n",
        "del news_dataset_train[\"ord\"]\n",
        "news_dataset_train = news_dataset_train[news_dataset_train[\"content\"]!=\"데이터에서 찾은 AI 속보\"]\n",
        "news_dataset_train = news_dataset_train[news_dataset_train[\"content\"]!=\"씨에스윈드, 193억 원 규모 윈드타워 공급계약 체결\"]\n",
        "news_dataset_train = news_dataset_train[news_dataset_train[\"content\"]!=\"씨에스윈드, 1분기 영업이익 158억 원전년비 16.1%\"]\n",
        "news_dataset_train = news_dataset_train.drop_duplicates()\n",
        "\n",
        "news_dataset_train = pd.DataFrame(news_dataset_train)\n",
        "\n",
        "for i in range(len(news_dataset_test)):\n",
        "    if len(news_dataset_train[news_dataset_train[\"content\"]==news_dataset_test.iloc[i,0]]) != 0:\n",
        "        news_dataset_test.iloc[i,2] = int(news_dataset_train[news_dataset_train[\"content\"]==news_dataset_test.iloc[i,0]][\"info\"])\n",
        "\n",
        "print(news_dataset_test.groupby(\"info\").size())"
      ],
      "execution_count": 74,
      "outputs": [
        {
          "output_type": "stream",
          "text": [
            "info\n",
            "0    88169\n",
            "1    54396\n",
            "dtype: int64\n"
          ],
          "name": "stdout"
        }
      ]
    },
    {
      "cell_type": "code",
      "metadata": {
        "id": "lxlAIngS_lJf",
        "colab": {
          "base_uri": "https://localhost:8080/"
        },
        "outputId": "43decb80-6920-4f39-d4e8-49b7d9fd7423"
      },
      "source": [
        "def g(x):\n",
        "    if x[\"content\"] == \"데이터에서 찾은 AI 속보\":\n",
        "        return 1\n",
        "    else:\n",
        "        return x[\"info\"]\n",
        "\n",
        "news_dataset_test[\"info\"] = news_dataset_test.apply(g, axis=1)\n",
        "\n",
        "print(news_dataset_test.groupby(\"info\").size())"
      ],
      "execution_count": 75,
      "outputs": [
        {
          "output_type": "stream",
          "text": [
            "info\n",
            "0    88169\n",
            "1    54396\n",
            "dtype: int64\n"
          ],
          "name": "stdout"
        }
      ]
    },
    {
      "cell_type": "code",
      "metadata": {
        "id": "9pUqZBggHN_s"
      },
      "source": [
        "news_dataset_test = news_dataset_test[[\"id\",\"info\"]]\n",
        "\n",
        "news_dataset_test.to_csv(\"/gdrive/My Drive/한양대학교/NH투자증권 빅데이터 경진대회/result/sample_submission.csv\", index=False)"
      ],
      "execution_count": 76,
      "outputs": []
    }
  ]
}