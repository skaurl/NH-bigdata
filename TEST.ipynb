{
  "nbformat": 4,
  "nbformat_minor": 0,
  "metadata": {
    "accelerator": "GPU",
    "colab": {
      "name": "TEST.ipynb",
      "provenance": [],
      "collapsed_sections": [],
      "machine_shape": "hm",
      "authorship_tag": "ABX9TyP9ybgtnDJdHiITTt+cVzrz"
    },
    "kernelspec": {
      "display_name": "Python 3",
      "name": "python3"
    }
  },
  "cells": [
    {
      "cell_type": "markdown",
      "metadata": {
        "id": "uyBLhiZXszNZ"
      },
      "source": [
        "# 기본 설정"
      ]
    },
    {
      "cell_type": "code",
      "metadata": {
        "id": "WeivjdYTfed2",
        "colab": {
          "base_uri": "https://localhost:8080/"
        },
        "outputId": "8ca8f835-6f08-4d80-f71a-88b7a2f2ac16"
      },
      "source": [
        "from google.colab import drive\n",
        "drive.mount('/gdrive')"
      ],
      "execution_count": 1,
      "outputs": [
        {
          "output_type": "stream",
          "text": [
            "Mounted at /gdrive\n"
          ],
          "name": "stdout"
        }
      ]
    },
    {
      "cell_type": "markdown",
      "metadata": {
        "id": "UFvzr28vshoa"
      },
      "source": [
        "# EDA"
      ]
    },
    {
      "cell_type": "markdown",
      "metadata": {
        "id": "aHZMinR_w5mE"
      },
      "source": [
        "**ERROR**"
      ]
    },
    {
      "cell_type": "code",
      "metadata": {
        "colab": {
          "base_uri": "https://localhost:8080/"
        },
        "id": "-aGzHWOmvWIO",
        "outputId": "b4e1ce9c-998a-460d-858c-30b5a208b38b"
      },
      "source": [
        "import pandas as pd\n",
        "\n",
        "news_dataset_train = pd.read_csv(\"/gdrive/My Drive/한양대학교/NH투자증권 빅데이터 경진대회/data/news_train.csv\")\n",
        "del news_dataset_train[\"n_id\"]\n",
        "del news_dataset_train[\"date\"]\n",
        "del news_dataset_train[\"title\"]\n",
        "del news_dataset_train[\"ord\"]\n",
        "\n",
        "news_dataset_train = news_dataset_train.drop_duplicates()\n",
        "\n",
        "news_dataset_train = news_dataset_train.groupby(\"content\").size()\n",
        "\n",
        "news_dataset_train = pd.DataFrame(news_dataset_train)\n",
        "\n",
        "news_dataset_train = news_dataset_train.reset_index()\n",
        "\n",
        "print(news_dataset_train[news_dataset_train[0]!=1])"
      ],
      "execution_count": 2,
      "outputs": [
        {
          "output_type": "stream",
          "text": [
            "                               content  0\n",
            "15886                   데이터에서 찾은 AI 속보  2\n",
            "25031    씨에스윈드, 193억 원 규모 윈드타워 공급계약 체결  2\n",
            "25032  씨에스윈드, 1분기 영업이익 158억 원전년비 16.1%  2\n"
          ],
          "name": "stdout"
        }
      ]
    },
    {
      "cell_type": "code",
      "metadata": {
        "colab": {
          "base_uri": "https://localhost:8080/"
        },
        "id": "IGtqkENXwIGU",
        "outputId": "f75335f6-7c4c-4495-d09a-8902ad23a094"
      },
      "source": [
        "import pandas as pd\n",
        "\n",
        "news_dataset_train = pd.read_csv(\"/gdrive/My Drive/한양대학교/NH투자증권 빅데이터 경진대회/data/news_train.csv\")\n",
        "del news_dataset_train[\"n_id\"]\n",
        "del news_dataset_train[\"date\"]\n",
        "del news_dataset_train[\"title\"]\n",
        "del news_dataset_train[\"ord\"]\n",
        "\n",
        "news_dataset_train = news_dataset_train.drop_duplicates()\n",
        "\n",
        "print(news_dataset_train[news_dataset_train[\"content\"]==\"데이터에서 찾은 AI 속보\"])\n",
        "print(news_dataset_train[news_dataset_train[\"content\"]==\"씨에스윈드, 193억 원 규모 윈드타워 공급계약 체결\"])\n",
        "print(news_dataset_train[news_dataset_train[\"content\"]==\"씨에스윈드, 1분기 영업이익 158억 원전년비 16.1%\"])"
      ],
      "execution_count": 3,
      "outputs": [
        {
          "output_type": "stream",
          "text": [
            "              content  info\n",
            "35935  데이터에서 찾은 AI 속보     0\n",
            "43736  데이터에서 찾은 AI 속보     1\n",
            "                             content  info\n",
            "50768  씨에스윈드, 193억 원 규모 윈드타워 공급계약 체결     0\n",
            "50772  씨에스윈드, 193억 원 규모 윈드타워 공급계약 체결     1\n",
            "                               content  info\n",
            "50754  씨에스윈드, 1분기 영업이익 158억 원전년비 16.1%     0\n",
            "50774  씨에스윈드, 1분기 영업이익 158억 원전년비 16.1%     1\n"
          ],
          "name": "stdout"
        }
      ]
    },
    {
      "cell_type": "markdown",
      "metadata": {
        "id": "3PEH92MSwzRn"
      },
      "source": [
        "**Baeseline**"
      ]
    },
    {
      "cell_type": "code",
      "metadata": {
        "colab": {
          "base_uri": "https://localhost:8080/"
        },
        "id": "IaE0Gs9IqAq_",
        "outputId": "bd162180-5e37-4cf5-9a9a-01e0fc81193d"
      },
      "source": [
        "import pandas as pd\n",
        "import numpy as np\n",
        "from tqdm import tqdm\n",
        "\n",
        "news_dataset_test = pd.read_csv(\"/gdrive/My Drive/한양대학교/NH투자증권 빅데이터 경진대회/data/news_test.csv\")\n",
        "del news_dataset_test[\"n_id\"]\n",
        "del news_dataset_test[\"date\"]\n",
        "del news_dataset_test[\"title\"]\n",
        "del news_dataset_test[\"ord\"]\n",
        "\n",
        "news_dataset_test[\"info\"] = np.nan\n",
        "\n",
        "news_dataset_train = pd.read_csv(\"/gdrive/My Drive/한양대학교/NH투자증권 빅데이터 경진대회/data/news_train.csv\")\n",
        "del news_dataset_train[\"n_id\"]\n",
        "del news_dataset_train[\"date\"]\n",
        "del news_dataset_train[\"title\"]\n",
        "del news_dataset_train[\"ord\"]\n",
        "news_dataset_train = news_dataset_train[news_dataset_train[\"content\"]!=\"데이터에서 찾은 AI 속보\"]\n",
        "news_dataset_train = news_dataset_train[news_dataset_train[\"content\"]!=\"씨에스윈드, 193억 원 규모 윈드타워 공급계약 체결\"]\n",
        "news_dataset_train = news_dataset_train[news_dataset_train[\"content\"]!=\"씨에스윈드, 1분기 영업이익 158억 원전년비 16.1%\"]\n",
        "news_dataset_train = news_dataset_train.drop_duplicates()\n",
        "\n",
        "news_dataset_train = pd.DataFrame(news_dataset_train)\n",
        "\n",
        "for i in tqdm(range(len(news_dataset_test))):\n",
        "    if len(news_dataset_train[news_dataset_train[\"content\"]==news_dataset_test.iloc[i,0]]) != 0:\n",
        "        news_dataset_test.iloc[i,2] = int(news_dataset_train[news_dataset_train[\"content\"]==news_dataset_test.iloc[i,0]][\"info\"])\n",
        "\n",
        "print(news_dataset_test.groupby(\"info\").size())"
      ],
      "execution_count": 9,
      "outputs": [
        {
          "output_type": "stream",
          "text": [
            "100%|██████████| 142565/142565 [12:06<00:00, 196.16it/s]"
          ],
          "name": "stderr"
        },
        {
          "output_type": "stream",
          "text": [
            "info\n",
            "0.0     8379\n",
            "1.0    45715\n",
            "dtype: int64\n"
          ],
          "name": "stdout"
        },
        {
          "output_type": "stream",
          "text": [
            "\n"
          ],
          "name": "stderr"
        }
      ]
    },
    {
      "cell_type": "markdown",
      "metadata": {
        "id": "oIyDeZ3hycTV"
      },
      "source": [
        "**중복 제거 전**"
      ]
    },
    {
      "cell_type": "code",
      "metadata": {
        "id": "Tla-mDkYsDEL",
        "colab": {
          "base_uri": "https://localhost:8080/",
          "height": 398
        },
        "outputId": "71964e7c-e442-4634-b402-cd37912e85e0"
      },
      "source": [
        "import pandas as pd\n",
        "import matplotlib.pyplot as plt\n",
        "\n",
        "news_dataset_path = r\"/gdrive/My Drive/한양대학교/NH투자증권 빅데이터 경진대회/data/news_train.csv\"\n",
        "\n",
        "news_dataset = pd.read_csv(news_dataset_path)\n",
        "\n",
        "news_dataset = news_dataset[news_dataset[\"content\"]!=\"데이터에서 찾은 AI 속보\"]\n",
        "news_dataset = news_dataset[news_dataset[\"content\"]!=\"씨에스윈드, 193억 원 규모 윈드타워 공급계약 체결\"]\n",
        "news_dataset = news_dataset[news_dataset[\"content\"]!=\"씨에스윈드, 1분기 영업이익 158억 원전년비 16.1%\"]\n",
        "\n",
        "del news_dataset[\"n_id\"]\n",
        "del news_dataset[\"date\"]\n",
        "del news_dataset[\"title\"]\n",
        "del news_dataset[\"ord\"]\n",
        "\n",
        "print(news_dataset.groupby(news_dataset[\"info\"]).size())\n",
        "print('문장의 개수 :', str(len(news_dataset))+'문장')\n",
        "print('문장의 최대 길이 :', str(max(len(l) for l in news_dataset['content']))+'글자')\n",
        "print('문장의 평균 길이 :', str(round(sum(map(len, news_dataset['content'])) / len(news_dataset['content'])))+'글자')\n",
        "\n",
        "plt.hist([len(s) for s in news_dataset['content']], bins=400)\n",
        "plt.xlim(0,300)\n",
        "plt.xlabel('length of Data')\n",
        "plt.ylabel('number of Data')\n",
        "plt.show()"
      ],
      "execution_count": 5,
      "outputs": [
        {
          "output_type": "stream",
          "text": [
            "info\n",
            "0    71785\n",
            "1    46864\n",
            "dtype: int64\n",
            "문장의 개수 : 118649문장\n",
            "문장의 최대 길이 : 3469글자\n",
            "문장의 평균 길이 : 51글자\n"
          ],
          "name": "stdout"
        },
        {
          "output_type": "display_data",
          "data": {
            "image/png": "[encoded data removed]",
            "text/plain": [
              "<Figure size 432x288 with 1 Axes>"
            ]
          },
          "metadata": {
            "tags": [],
            "needs_background": "light"
          }
        }
      ]
    },
    {
      "cell_type": "markdown",
      "metadata": {
        "id": "UP2tD_N2yl-i"
      },
      "source": [
        "**중복 제거 후**"
      ]
    },
    {
      "cell_type": "code",
      "metadata": {
        "id": "MnBsN7CE5Y11",
        "colab": {
          "base_uri": "https://localhost:8080/",
          "height": 398
        },
        "outputId": "2e151d4c-d008-45c6-bf27-4fec10a07e7a"
      },
      "source": [
        "import pandas as pd\n",
        "import matplotlib.pyplot as plt\n",
        "\n",
        "news_dataset_path = r\"/gdrive/My Drive/한양대학교/NH투자증권 빅데이터 경진대회/data/news_train.csv\"\n",
        "\n",
        "news_dataset = pd.read_csv(news_dataset_path)\n",
        "\n",
        "news_dataset = news_dataset[news_dataset[\"content\"]!=\"데이터에서 찾은 AI 속보\"]\n",
        "news_dataset = news_dataset[news_dataset[\"content\"]!=\"씨에스윈드, 193억 원 규모 윈드타워 공급계약 체결\"]\n",
        "news_dataset = news_dataset[news_dataset[\"content\"]!=\"씨에스윈드, 1분기 영업이익 158억 원전년비 16.1%\"]\n",
        "\n",
        "del news_dataset[\"n_id\"]\n",
        "del news_dataset[\"date\"]\n",
        "del news_dataset[\"title\"]\n",
        "del news_dataset[\"ord\"]\n",
        "\n",
        "news_dataset = news_dataset.drop_duplicates()\n",
        "\n",
        "print(news_dataset.groupby(news_dataset[\"info\"]).size())\n",
        "print('문장의 개수 :', str(len(news_dataset))+'문장')\n",
        "print('문장의 최대 길이 :', str(max(len(l) for l in news_dataset['content']))+'글자')\n",
        "print('문장의 평균 길이 :', str(round(sum(map(len, news_dataset['content'])) / len(news_dataset['content'])))+'글자')\n",
        "\n",
        "plt.hist([len(s) for s in news_dataset['content']], bins=400)\n",
        "plt.xlim(0,300)\n",
        "plt.xlabel('length of Data')\n",
        "plt.ylabel('number of Data')\n",
        "plt.show()"
      ],
      "execution_count": 6,
      "outputs": [
        {
          "output_type": "stream",
          "text": [
            "info\n",
            "0    40367\n",
            "1     5791\n",
            "dtype: int64\n",
            "문장의 개수 : 46158문장\n",
            "문장의 최대 길이 : 3469글자\n",
            "문장의 평균 길이 : 63글자\n"
          ],
          "name": "stdout"
        },
        {
          "output_type": "display_data",
          "data": {
            "image/png": "[encoded data removed]",
            "text/plain": [
              "<Figure size 432x288 with 1 Axes>"
            ]
          },
          "metadata": {
            "tags": [],
            "needs_background": "light"
          }
        }
      ]
    },
    {
      "cell_type": "code",
      "metadata": {
        "id": "QmpwOGpWUuMj"
      },
      "source": [
        "import pandas as pd\n",
        "import matplotlib.pyplot as plt\n",
        "\n",
        "news_dataset_path = r\"/gdrive/My Drive/한양대학교/NH투자증권 빅데이터 경진대회/data/news_train.csv\"\n",
        "\n",
        "news_dataset = pd.read_csv(news_dataset_path)\n",
        "\n",
        "news_dataset = news_dataset[news_dataset[\"content\"]!=\"데이터에서 찾은 AI 속보\"]\n",
        "news_dataset = news_dataset[news_dataset[\"content\"]!=\"씨에스윈드, 193억 원 규모 윈드타워 공급계약 체결\"]\n",
        "news_dataset = news_dataset[news_dataset[\"content\"]!=\"씨에스윈드, 1분기 영업이익 158억 원전년비 16.1%\"]\n",
        "\n",
        "del news_dataset[\"n_id\"]\n",
        "del news_dataset[\"date\"]\n",
        "del news_dataset[\"title\"]\n",
        "del news_dataset[\"ord\"]\n",
        "\n",
        "print(news_dataset)"
      ],
      "execution_count": null,
      "outputs": []
    },
    {
      "cell_type": "markdown",
      "metadata": {
        "id": "ujHPwX4fwvS0"
      },
      "source": [
        "**title + content**"
      ]
    },
    {
      "cell_type": "code",
      "metadata": {
        "colab": {
          "base_uri": "https://localhost:8080/",
          "height": 398
        },
        "id": "w3Hl64fmwuaT",
        "outputId": "3d454164-cd03-4175-ea69-968a0eef8c35"
      },
      "source": [
        "import pandas as pd\n",
        "import matplotlib.pyplot as plt\n",
        "\n",
        "news_dataset_path = r\"/gdrive/My Drive/한양대학교/NH투자증권 빅데이터 경진대회/data/news_train.csv\"\n",
        "\n",
        "news_dataset = pd.read_csv(news_dataset_path)\n",
        "\n",
        "news_dataset = news_dataset[news_dataset[\"content\"]!=\"데이터에서 찾은 AI 속보\"]\n",
        "news_dataset = news_dataset[news_dataset[\"content\"]!=\"씨에스윈드, 193억 원 규모 윈드타워 공급계약 체결\"]\n",
        "news_dataset = news_dataset[news_dataset[\"content\"]!=\"씨에스윈드, 1분기 영업이익 158억 원전년비 16.1%\"]\n",
        "\n",
        "news_dataset[\"content\"] = news_dataset[\"title\"] + \" \" + news_dataset[\"content\"]\n",
        "\n",
        "del news_dataset[\"n_id\"]\n",
        "del news_dataset[\"date\"]\n",
        "del news_dataset[\"title\"]\n",
        "del news_dataset[\"ord\"]\n",
        "\n",
        "news_dataset = news_dataset.drop_duplicates()\n",
        "\n",
        "print(news_dataset.groupby(news_dataset[\"info\"]).size())\n",
        "print('문장의 개수 :', str(len(news_dataset))+'문장')\n",
        "print('문장의 최대 길이 :', str(max(len(l) for l in news_dataset['content']))+'글자')\n",
        "print('문장의 평균 길이 :', str(round(sum(map(len, news_dataset['content'])) / len(news_dataset['content'])))+'글자')\n",
        "\n",
        "plt.hist([len(s) for s in news_dataset['content']], bins=400)\n",
        "plt.xlim(0,400)\n",
        "plt.xlabel('length of Data')\n",
        "plt.ylabel('number of Data')\n",
        "plt.show()"
      ],
      "execution_count": 8,
      "outputs": [
        {
          "output_type": "stream",
          "text": [
            "info\n",
            "0    45385\n",
            "1    25501\n",
            "dtype: int64\n",
            "문장의 개수 : 70886문장\n",
            "문장의 최대 길이 : 3490글자\n",
            "문장의 평균 길이 : 85글자\n"
          ],
          "name": "stdout"
        },
        {
          "output_type": "display_data",
          "data": {
            "image/png": "[encoded data removed]",
            "text/plain": [
              "<Figure size 432x288 with 1 Axes>"
            ]
          },
          "metadata": {
            "tags": [],
            "needs_background": "light"
          }
        }
      ]
    },
    {
      "cell_type": "markdown",
      "metadata": {
        "id": "7oA9Z_8RspX2"
      },
      "source": [
        "# Data Preprocessing"
      ]
    },
    {
      "cell_type": "code",
      "metadata": {
        "id": "5PcoQPP2SiLl"
      },
      "source": [
        "max_len = 100"
      ],
      "execution_count": null,
      "outputs": []
    },
    {
      "cell_type": "code",
      "metadata": {
        "id": "7a6JRqCn7vPy"
      },
      "source": [
        "import pandas as pd\n",
        "import copy\n",
        "from sklearn.model_selection import train_test_split\n",
        "from sklearn.preprocessing import LabelEncoder; LE = LabelEncoder()\n",
        "from tensorflow.keras.preprocessing import sequence\n",
        "from tensorflow.keras.utils import to_categorical\n",
        "from imblearn.over_sampling import RandomOverSampler\n",
        "\n",
        "def convert_to_ord(data):\n",
        "    try:\n",
        "        return [ord(xx) for xx in data]\n",
        "    except:\n",
        "        print(data)\n",
        "\n",
        "news_dataset_path = r\"/gdrive/My Drive/한양대학교/NH투자증권 빅데이터 경진대회/data/news_train.csv\"\n",
        "\n",
        "news_dataset = pd.read_csv(news_dataset_path)\n",
        "\n",
        "news_dataset = news_dataset[news_dataset[\"content\"]!=\"데이터에서 찾은 AI 속보\"]\n",
        "news_dataset = news_dataset[news_dataset[\"content\"]!=\"씨에스윈드, 193억 원 규모 윈드타워 공급계약 체결\"]\n",
        "news_dataset = news_dataset[news_dataset[\"content\"]!=\"씨에스윈드, 1분기 영업이익 158억 원전년비 16.1%\"]\n",
        "\n",
        "#news_dataset[\"content\"] = news_dataset[\"title\"] + \" \" + news_dataset[\"content\"]\n",
        "\n",
        "del news_dataset[\"n_id\"]\n",
        "del news_dataset[\"date\"]\n",
        "del news_dataset[\"title\"]\n",
        "del news_dataset[\"ord\"]\n",
        "\n",
        "news_dataset = news_dataset.drop_duplicates()\n",
        "\n",
        "news_dataset['content'] = news_dataset['content'].map(convert_to_ord)\n",
        "news_dataset['info'] = LE.fit_transform(news_dataset['info'])\n",
        "\n",
        "data = sequence.pad_sequences(news_dataset['content'], maxlen=max_len)\n",
        "\n",
        "x_train = data\n",
        "y_train = news_dataset['info']\n",
        "\n",
        "x_train, x_test, y_train, y_test = train_test_split(data, news_dataset['info'], test_size=0.1, random_state=42)\n",
        "\n",
        "ros = RandomOverSampler(random_state=42)\n",
        "x_train, y_train = ros.fit_resample(x_train, y_train)\n",
        "\n",
        "y_true = copy.deepcopy(y_test)\n",
        "y_train = to_categorical(y_train)\n",
        "y_test = to_categorical(y_test)\n",
        "\n",
        "print('train_shape : {} / {}'.format(x_train.shape, y_train.shape))\n",
        "print('test_shape : {} / {}'.format(x_test.shape, y_test.shape))"
      ],
      "execution_count": null,
      "outputs": []
    },
    {
      "cell_type": "markdown",
      "metadata": {
        "id": "x6W4pPmEstmH"
      },
      "source": [
        "# MODEL"
      ]
    },
    {
      "cell_type": "markdown",
      "metadata": {
        "id": "E7B9QSU5yI0R"
      },
      "source": [
        "**Hyperparameter**"
      ]
    },
    {
      "cell_type": "code",
      "metadata": {
        "id": "giGqC8gcvhIR"
      },
      "source": [
        "output_dim = 200\n",
        "filters = 400\n",
        "filter_sizes = [2, 3, 4, 5]\n",
        "epochs = 2**10\n",
        "batch_size = 2**10"
      ],
      "execution_count": 6,
      "outputs": []
    },
    {
      "cell_type": "markdown",
      "metadata": {
        "id": "SzMxWVpayOs-"
      },
      "source": [
        "**CNN**"
      ]
    },
    {
      "cell_type": "code",
      "metadata": {
        "id": "jVyipihjfxER"
      },
      "source": [
        "import tensorflow as tf\n",
        "from tensorflow.keras.models import Model, Sequential\n",
        "from tensorflow.keras.layers import Input, Conv2D, Activation, MaxPooling2D, concatenate, Embedding, Reshape, Flatten, Dense, Dropout\n",
        "from tensorflow.keras import optimizers\n",
        "from tensorflow.keras.callbacks import EarlyStopping, ModelCheckpoint\n",
        "\n",
        "def convolution():\n",
        "    inn = Input(shape = (max_len, output_dim, 1))\n",
        "    convolutions = []\n",
        "    for fs in filter_sizes:\n",
        "        conv = Conv2D(filters = filters, kernel_size = (fs, output_dim), strides = 1, padding = \"valid\")(inn)\n",
        "        nonlinearity = Activation('relu')(conv)\n",
        "        maxpool = MaxPooling2D(pool_size = (max_len - fs + 1, 1), padding = \"valid\")(nonlinearity)\n",
        "        convolutions.append(maxpool)\n",
        "    outt = concatenate(convolutions)\n",
        "    model = Model(inputs = inn, outputs = outt)\n",
        "    return model\n",
        "\n",
        "def conv2d_cnn():\n",
        "    model = Sequential()\n",
        "    model.add(Embedding(input_dim=2**16, output_dim=output_dim, input_length=max_len))\n",
        "    model.add(Reshape((max_len, output_dim, 1), input_shape=(max_len, output_dim)))\n",
        "    model.add(convolution())\n",
        "    model.add(Flatten())\n",
        "\n",
        "    model.add(Dense(2**6))\n",
        "    model.add(Activation('relu'))\n",
        "    model.add(Dropout(0.2))\n",
        "\n",
        "    model.add(Dense(2**6))\n",
        "    model.add(Activation('relu'))\n",
        "    model.add(Dropout(0.2))\n",
        "\n",
        "    model.add(Dense(2**6))\n",
        "    model.add(Activation('relu'))\n",
        "    model.add(Dropout(0.2))\n",
        "\n",
        "    model.add(Dense(2))\n",
        "    model.add(Activation('softmax'))\n",
        "    adam = optimizers.Adam(lr=0.0001)\n",
        "    model.compile(loss='categorical_crossentropy', optimizer=adam, metrics=['accuracy'])\n",
        "    model.summary()\n",
        "    early_stopping = EarlyStopping(monitor=\"val_loss\", patience=5)\n",
        "    modelcheckpoint = ModelCheckpoint('/gdrive/My Drive/한양대학교/NH투자증권 빅데이터 경진대회/model/news_model.h5', monitor='val_loss', mode='min', save_best_only=True)\n",
        "    history = model.fit(x_train, y_train, validation_split=0.2, epochs=epochs, batch_size=batch_size, verbose=1, callbacks=[early_stopping,modelcheckpoint])\n",
        "\n",
        "    return model, history\n",
        "\n",
        "if __name__ == \"__main__\":\n",
        "\n",
        "    with tf.device('/device:GPU:0'):\n",
        "        model, history = conv2d_cnn()"
      ],
      "execution_count": null,
      "outputs": []
    },
    {
      "cell_type": "markdown",
      "metadata": {
        "id": "NVqt1MobyTNC"
      },
      "source": [
        "**Graph**"
      ]
    },
    {
      "cell_type": "code",
      "metadata": {
        "id": "83ONSjmhv7p0"
      },
      "source": [
        "import matplotlib.pyplot as plt\n",
        "\n",
        "acc = history.history['accuracy']\n",
        "val_acc = history.history['val_accuracy']\n",
        "loss = history.history['loss']\n",
        "val_loss = history.history['val_loss']\n",
        "epochs = range(1, len(acc) + 1)\n",
        "\n",
        "plt.plot(epochs, loss, 'r', label='Training loss')\n",
        "plt.plot(epochs, val_loss, 'b', label='Validation loss')\n",
        "plt.title('Training and validation loss')\n",
        "plt.xlabel('Epochs')\n",
        "plt.ylabel('Loss')\n",
        "plt.legend()\n",
        "plt.figure()\n",
        "plt.plot(epochs, acc, 'r', label='Training acc')\n",
        "plt.plot(epochs, val_acc, 'b', label='Validation acc')\n",
        "plt.title('Training and validation accuracy')\n",
        "plt.xlabel('Epochs')\n",
        "plt.ylabel('Accuracy')\n",
        "plt.legend()\n",
        "plt.show()"
      ],
      "execution_count": null,
      "outputs": []
    },
    {
      "cell_type": "markdown",
      "metadata": {
        "id": "Gw4QGgd6yI3A"
      },
      "source": [
        "**TEST**"
      ]
    },
    {
      "cell_type": "code",
      "metadata": {
        "id": "G1LOMHpfxf2x"
      },
      "source": [
        "from sklearn.metrics import classification_report\n",
        "\n",
        "scores = model.evaluate(x_test, y_test)\n",
        "print(scores)\n",
        "print(\"정확도: %.2f%%\" % (scores[1] * 100))\n",
        "\n",
        "y_true = list(y_true)\n",
        "y_pred = model.predict_classes(x_test)\n",
        "y_pred = list(y_pred)\n",
        "\n",
        "print(classification_report(y_true, y_pred))\n",
        "print(pd.crosstab(pd.Series(y_true), pd.Series(y_pred), rownames=['True'], colnames=['Predicted']))"
      ],
      "execution_count": null,
      "outputs": []
    },
    {
      "cell_type": "markdown",
      "metadata": {
        "id": "T5HzHzCrtBao"
      },
      "source": [
        "# RESULT"
      ]
    },
    {
      "cell_type": "code",
      "metadata": {
        "id": "AgMCQdL5VEXB"
      },
      "source": [
        "import pandas as pd\n",
        "import numpy as np\n",
        "from tensorflow.keras.preprocessing import sequence\n",
        "from tensorflow.keras.models import load_model\n",
        "\n",
        "def convert_to_ord(data):\n",
        "    try:\n",
        "        return [ord(xx) for xx in data]\n",
        "    except:\n",
        "        print(data)\n",
        "\n",
        "news_dataset_test = pd.read_csv(\"/gdrive/My Drive/한양대학교/NH투자증권 빅데이터 경진대회/data/news_test.csv\")\n",
        "\n",
        "#news_dataset_test[\"content\"] = news_dataset_test[\"title\"] + \" \" + news_dataset_test[\"content\"]\n",
        "\n",
        "del news_dataset_test[\"n_id\"]\n",
        "del news_dataset_test[\"date\"]\n",
        "del news_dataset_test[\"title\"]\n",
        "del news_dataset_test[\"ord\"]\n",
        "\n",
        "model = load_model('/gdrive/My Drive/한양대학교/NH투자증권 빅데이터 경진대회/model/news_model.h5')\n",
        "\n",
        "x_test = sequence.pad_sequences(news_dataset_test['content'].map(convert_to_ord), maxlen=max_len)\n",
        "\n",
        "news_dataset_test[\"info\"] = model.predict_classes(x_test)\n",
        "\n",
        "print(news_dataset_test.groupby(\"info\").size())"
      ],
      "execution_count": null,
      "outputs": []
    },
    {
      "cell_type": "code",
      "metadata": {
        "id": "GGOyUU7T68BE"
      },
      "source": [
        "news_dataset_test_1 = pd.read_csv(\"/gdrive/My Drive/한양대학교/NH투자증권 빅데이터 경진대회/data/news_test.csv\")\n",
        "\n",
        "news_dataset_test[\"content\"] = news_dataset_test_1[\"content\"]"
      ],
      "execution_count": 11,
      "outputs": []
    },
    {
      "cell_type": "code",
      "metadata": {
        "id": "MO7buITUVFeY"
      },
      "source": [
        "from tqdm import tqdm\n",
        "\n",
        "news_dataset_train = pd.read_csv(\"/gdrive/My Drive/한양대학교/NH투자증권 빅데이터 경진대회/data/news_train.csv\")\n",
        "del news_dataset_train[\"n_id\"]\n",
        "del news_dataset_train[\"date\"]\n",
        "del news_dataset_train[\"title\"]\n",
        "del news_dataset_train[\"ord\"]\n",
        "news_dataset_train = news_dataset_train[news_dataset_train[\"content\"]!=\"데이터에서 찾은 AI 속보\"]\n",
        "news_dataset_train = news_dataset_train[news_dataset_train[\"content\"]!=\"씨에스윈드, 193억 원 규모 윈드타워 공급계약 체결\"]\n",
        "news_dataset_train = news_dataset_train[news_dataset_train[\"content\"]!=\"씨에스윈드, 1분기 영업이익 158억 원전년비 16.1%\"]\n",
        "news_dataset_train = news_dataset_train.drop_duplicates()\n",
        "\n",
        "news_dataset_train = pd.DataFrame(news_dataset_train)\n",
        "\n",
        "for i in tqdm(range(len(news_dataset_test))):\n",
        "    if len(news_dataset_train[news_dataset_train[\"content\"]==news_dataset_test.iloc[i,0]]) != 0:\n",
        "        news_dataset_test.iloc[i,2] = int(news_dataset_train[news_dataset_train[\"content\"]==news_dataset_test.iloc[i,0]][\"info\"])\n",
        "\n",
        "print(news_dataset_test.groupby(\"info\").size())"
      ],
      "execution_count": null,
      "outputs": []
    },
    {
      "cell_type": "code",
      "metadata": {
        "id": "-YRdpMvzVIzl"
      },
      "source": [
        "def g(x):\n",
        "    if x[\"content\"] == \"데이터에서 찾은 AI 속보\":\n",
        "        return 1\n",
        "    else:\n",
        "        return x[\"info\"]\n",
        "\n",
        "news_dataset_test[\"info\"] = news_dataset_test.apply(g, axis=1)\n",
        "\n",
        "print(news_dataset_test.groupby(\"info\").size())"
      ],
      "execution_count": null,
      "outputs": []
    },
    {
      "cell_type": "code",
      "metadata": {
        "id": "Xv8DCyXNVNFt"
      },
      "source": [
        "news_dataset_test = news_dataset_test[[\"id\",\"info\"]]\n",
        "\n",
        "news_dataset_test.to_csv(\"/gdrive/My Drive/한양대학교/NH투자증권 빅데이터 경진대회/result/sample_submission.csv\", index=False)"
      ],
      "execution_count": 14,
      "outputs": []
    }
  ]
}