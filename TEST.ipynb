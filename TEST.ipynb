{
  "nbformat": 4,
  "nbformat_minor": 0,
  "metadata": {
    "accelerator": "GPU",
    "colab": {
      "name": "TEST.ipynb",
      "provenance": [],
      "collapsed_sections": [],
      "machine_shape": "hm",
      "authorship_tag": "ABX9TyOgXqMpz4dnZVIaEVQNjfhG"
    },
    "kernelspec": {
      "display_name": "Python 3",
      "name": "python3"
    }
  },
  "cells": [
    {
      "cell_type": "markdown",
      "metadata": {
        "id": "uyBLhiZXszNZ"
      },
      "source": [
        "# 기본 설정"
      ]
    },
    {
      "cell_type": "code",
      "metadata": {
        "id": "WeivjdYTfed2",
        "colab": {
          "base_uri": "https://localhost:8080/"
        },
        "outputId": "85f2d253-3459-4eb8-ad9c-186fbdde1645"
      },
      "source": [
        "from google.colab import drive\n",
        "drive.mount('/gdrive')"
      ],
      "execution_count": 1,
      "outputs": [
        {
          "output_type": "stream",
          "text": [
            "Mounted at /gdrive\n"
          ],
          "name": "stdout"
        }
      ]
    },
    {
      "cell_type": "markdown",
      "metadata": {
        "id": "UFvzr28vshoa"
      },
      "source": [
        "# EDA"
      ]
    },
    {
      "cell_type": "code",
      "metadata": {
        "id": "nrrKxoz50BtR"
      },
      "source": [
        "import pandas as pd\n",
        "import matplotlib.pyplot as plt\n",
        "\n",
        "news_dataset_path = r\"/gdrive/My Drive/한양대학교/NH투자증권 빅데이터 경진대회/data/news_train.csv\"\n",
        "\n",
        "news_dataset = pd.read_csv(news_dataset_path)\n",
        "\n",
        "del news_dataset[\"n_id\"]\n",
        "del news_dataset[\"date\"]\n",
        "del news_dataset[\"title\"]\n",
        "del news_dataset[\"ord\"]\n",
        "\n",
        "news_dataset = news_dataset.drop_duplicates()\n",
        "\n",
        "news_dataset = news_dataset.groupby([\"content\"]).size()\n",
        "\n",
        "print(news_dataset)"
      ],
      "execution_count": null,
      "outputs": []
    },
    {
      "cell_type": "markdown",
      "metadata": {
        "id": "oIyDeZ3hycTV"
      },
      "source": [
        "**중복 제거 전**"
      ]
    },
    {
      "cell_type": "code",
      "metadata": {
        "colab": {
          "base_uri": "https://localhost:8080/",
          "height": 398
        },
        "id": "Tla-mDkYsDEL",
        "outputId": "d8beae7e-0bfe-43d8-9a0f-d742b1a8f134"
      },
      "source": [
        "import pandas as pd\n",
        "import matplotlib.pyplot as plt\n",
        "\n",
        "news_dataset_path = r\"/gdrive/My Drive/한양대학교/NH투자증권 빅데이터 경진대회/data/news_train.csv\"\n",
        "\n",
        "news_dataset = pd.read_csv(news_dataset_path)\n",
        "\n",
        "del news_dataset[\"n_id\"]\n",
        "del news_dataset[\"date\"]\n",
        "del news_dataset[\"title\"]\n",
        "del news_dataset[\"ord\"]\n",
        "\n",
        "news_dataset = news_dataset[news_dataset[\"content\"]!=\"데이터에서 찾은 AI 속보\"]\n",
        "news_dataset = news_dataset[news_dataset[\"content\"]!=\"씨에스윈드, 193억 원 규모 윈드타워 공급계약 체결\"]\n",
        "news_dataset = news_dataset[news_dataset[\"content\"]!=\"씨에스윈드, 1분기 영업이익 158억 원전년비 16.1%\"]\n",
        "\n",
        "print(news_dataset.groupby(news_dataset[\"info\"]).size())\n",
        "print('문장의 개수 :', str(len(news_dataset))+'문장')\n",
        "print('문장의 최대 길이 :', str(max(len(l) for l in news_dataset['content']))+'글자')\n",
        "print('문장의 평균 길이 :', str(round(sum(map(len, news_dataset['content'])) / len(news_dataset['content'])))+'글자')\n",
        "\n",
        "plt.hist([len(s) for s in news_dataset['content']], bins=400)\n",
        "plt.xlim(0,300)\n",
        "plt.xlabel('length of Data')\n",
        "plt.ylabel('number of Data')\n",
        "plt.show()"
      ],
      "execution_count": 3,
      "outputs": [
        {
          "output_type": "stream",
          "text": [
            "info\n",
            "0    71813\n",
            "1    46932\n",
            "dtype: int64\n",
            "문장의 개수 : 118745문장\n",
            "문장의 최대 길이 : 3469글자\n",
            "문장의 평균 길이 : 51글자\n"
          ],
          "name": "stdout"
        },
        {
          "output_type": "display_data",
          "data": {
            "image/png": "[encoded data removed]",
            "text/plain": [
              "<Figure size 432x288 with 1 Axes>"
            ]
          },
          "metadata": {
            "tags": [],
            "needs_background": "light"
          }
        }
      ]
    },
    {
      "cell_type": "markdown",
      "metadata": {
        "id": "UP2tD_N2yl-i"
      },
      "source": [
        "**중복 제거 후**"
      ]
    },
    {
      "cell_type": "code",
      "metadata": {
        "colab": {
          "base_uri": "https://localhost:8080/",
          "height": 398
        },
        "id": "MnBsN7CE5Y11",
        "outputId": "2da01f80-35fa-40bd-bf2e-befd7fa3cb33"
      },
      "source": [
        "import pandas as pd\n",
        "import matplotlib.pyplot as plt\n",
        "\n",
        "news_dataset_path = r\"/gdrive/My Drive/한양대학교/NH투자증권 빅데이터 경진대회/data/news_train.csv\"\n",
        "\n",
        "news_dataset = pd.read_csv(news_dataset_path)\n",
        "\n",
        "del news_dataset[\"n_id\"]\n",
        "del news_dataset[\"date\"]\n",
        "del news_dataset[\"title\"]\n",
        "del news_dataset[\"ord\"]\n",
        "\n",
        "news_dataset = news_dataset[news_dataset[\"content\"]!=\"데이터에서 찾은 AI 속보\"]\n",
        "news_dataset = news_dataset[news_dataset[\"content\"]!=\"씨에스윈드, 193억 원 규모 윈드타워 공급계약 체결\"]\n",
        "news_dataset = news_dataset[news_dataset[\"content\"]!=\"씨에스윈드, 1분기 영업이익 158억 원전년비 16.1%\"]\n",
        "\n",
        "news_dataset = news_dataset.drop_duplicates()\n",
        "\n",
        "print(news_dataset.groupby(news_dataset[\"info\"]).size())\n",
        "print('문장의 개수 :', str(len(news_dataset))+'문장')\n",
        "print('문장의 최대 길이 :', str(max(len(l) for l in news_dataset['content']))+'글자')\n",
        "print('문장의 평균 길이 :', str(round(sum(map(len, news_dataset['content'])) / len(news_dataset['content'])))+'글자')\n",
        "\n",
        "plt.hist([len(s) for s in news_dataset['content']], bins=400)\n",
        "plt.xlim(0,300)\n",
        "plt.xlabel('length of Data')\n",
        "plt.ylabel('number of Data')\n",
        "plt.show()"
      ],
      "execution_count": 4,
      "outputs": [
        {
          "output_type": "stream",
          "text": [
            "info\n",
            "0    40367\n",
            "1     5791\n",
            "dtype: int64\n",
            "문장의 개수 : 46158문장\n",
            "문장의 최대 길이 : 3469글자\n",
            "문장의 평균 길이 : 63글자\n"
          ],
          "name": "stdout"
        },
        {
          "output_type": "display_data",
          "data": {
            "image/png": "[encoded data removed]",
            "text/plain": [
              "<Figure size 432x288 with 1 Axes>"
            ]
          },
          "metadata": {
            "tags": [],
            "needs_background": "light"
          }
        }
      ]
    },
    {
      "cell_type": "code",
      "metadata": {
        "id": "cbHvQ0rOxR9N"
      },
      "source": [
        "max_len = 300"
      ],
      "execution_count": 5,
      "outputs": []
    },
    {
      "cell_type": "markdown",
      "metadata": {
        "id": "7oA9Z_8RspX2"
      },
      "source": [
        "# Data Preprocessing"
      ]
    },
    {
      "cell_type": "code",
      "metadata": {
        "colab": {
          "base_uri": "https://localhost:8080/"
        },
        "id": "7a6JRqCn7vPy",
        "outputId": "6606d42a-1326-4ade-fa54-59948929333c"
      },
      "source": [
        "import pandas as pd\n",
        "import copy\n",
        "from sklearn.model_selection import train_test_split\n",
        "from sklearn.preprocessing import LabelEncoder; LE = LabelEncoder()\n",
        "from tensorflow.keras.preprocessing import sequence\n",
        "from tensorflow.keras.utils import to_categorical\n",
        "from imblearn.over_sampling import RandomOverSampler\n",
        "\n",
        "def convert_to_ord(data):\n",
        "    try:\n",
        "        return [ord(xx) for xx in data]\n",
        "    except:\n",
        "        print(data)\n",
        "\n",
        "news_dataset_path = r\"/gdrive/My Drive/한양대학교/NH투자증권 빅데이터 경진대회/data/news_train.csv\"\n",
        "\n",
        "news_dataset = pd.read_csv(news_dataset_path)\n",
        "\n",
        "del news_dataset[\"n_id\"]\n",
        "del news_dataset[\"date\"]\n",
        "del news_dataset[\"title\"]\n",
        "del news_dataset[\"ord\"]\n",
        "\n",
        "news_dataset = news_dataset[news_dataset[\"content\"]!=\"데이터에서 찾은 AI 속보\"]\n",
        "news_dataset = news_dataset[news_dataset[\"content\"]!=\"씨에스윈드, 193억 원 규모 윈드타워 공급계약 체결\"]\n",
        "news_dataset = news_dataset[news_dataset[\"content\"]!=\"씨에스윈드, 1분기 영업이익 158억 원전년비 16.1%\"]\n",
        "\n",
        "#news_dataset = news_dataset.drop_duplicates()\n",
        "\n",
        "news_dataset['content'] = news_dataset['content'].map(convert_to_ord)\n",
        "news_dataset['info'] = LE.fit_transform(news_dataset['info'])\n",
        "\n",
        "data = sequence.pad_sequences(news_dataset['content'], maxlen=max_len)\n",
        "\n",
        "x_train = data\n",
        "y_train = news_dataset['info']\n",
        "\n",
        "#x_train, x_test, y_train, y_test = train_test_split(data, news_dataset['info'], test_size=0.1, random_state=42)\n",
        "\n",
        "ros = RandomOverSampler(random_state=42)\n",
        "x_train, y_train = ros.fit_resample(x_train, y_train)\n",
        "\n",
        "#y_true = copy.deepcopy(y_test)\n",
        "y_train = to_categorical(y_train)\n",
        "#y_test = to_categorical(y_test)\n",
        "\n",
        "print('train_shape : {} / {}'.format(x_train.shape, y_train.shape))\n",
        "#print('test_shape : {} / {}'.format(x_test.shape, y_test.shape))"
      ],
      "execution_count": 6,
      "outputs": [
        {
          "output_type": "stream",
          "text": [
            "/usr/local/lib/python3.6/dist-packages/sklearn/externals/six.py:31: FutureWarning: The module is deprecated in version 0.21 and will be removed in version 0.23 since we've dropped support for Python 2.7. Please rely on the official version of six (https://pypi.org/project/six/).\n",
            "  \"(https://pypi.org/project/six/).\", FutureWarning)\n",
            "/usr/local/lib/python3.6/dist-packages/sklearn/utils/deprecation.py:144: FutureWarning: The sklearn.neighbors.base module is  deprecated in version 0.22 and will be removed in version 0.24. The corresponding classes / functions should instead be imported from sklearn.neighbors. Anything that cannot be imported from sklearn.neighbors is now part of the private API.\n",
            "  warnings.warn(message, FutureWarning)\n"
          ],
          "name": "stderr"
        },
        {
          "output_type": "stream",
          "text": [
            "train_shape : (143570, 300) / (143570, 2)\n"
          ],
          "name": "stdout"
        },
        {
          "output_type": "stream",
          "text": [
            "/usr/local/lib/python3.6/dist-packages/sklearn/utils/deprecation.py:87: FutureWarning: Function safe_indexing is deprecated; safe_indexing is deprecated in version 0.22 and will be removed in version 0.24.\n",
            "  warnings.warn(msg, category=FutureWarning)\n"
          ],
          "name": "stderr"
        }
      ]
    },
    {
      "cell_type": "markdown",
      "metadata": {
        "id": "x6W4pPmEstmH"
      },
      "source": [
        "# TRAIN"
      ]
    },
    {
      "cell_type": "markdown",
      "metadata": {
        "id": "E7B9QSU5yI0R"
      },
      "source": [
        "**Hyperparameter**"
      ]
    },
    {
      "cell_type": "code",
      "metadata": {
        "id": "giGqC8gcvhIR"
      },
      "source": [
        "output_dim = 400\n",
        "filters = 400\n",
        "kernel_size = 5\n",
        "epochs = 2**10\n",
        "batch_size = 2**10"
      ],
      "execution_count": 7,
      "outputs": []
    },
    {
      "cell_type": "markdown",
      "metadata": {
        "id": "SzMxWVpayOs-"
      },
      "source": [
        "**CNN**"
      ]
    },
    {
      "cell_type": "code",
      "metadata": {
        "id": "jVyipihjfxER",
        "colab": {
          "base_uri": "https://localhost:8080/"
        },
        "outputId": "b03eb171-ce99-49ce-c418-2c212731970c"
      },
      "source": [
        "import tensorflow as tf\n",
        "from tensorflow.keras.models import Sequential\n",
        "from tensorflow.keras.layers import Dense, Dropout, Activation, Embedding, Reshape, Conv2D, GlobalMaxPooling2D\n",
        "from tensorflow.keras import optimizers\n",
        "from tensorflow.keras.callbacks import EarlyStopping, ModelCheckpoint\n",
        "\n",
        "def conv2d_cnn():\n",
        "    model = Sequential()\n",
        "    model.add(Embedding(input_dim=2**16, output_dim=output_dim, input_length=max_len))\n",
        "    model.add(Reshape((max_len, output_dim, 1), input_shape=(max_len, output_dim)))\n",
        "    model.add(Conv2D(filters=filters, kernel_size=(kernel_size, output_dim), strides=(1, 1), padding='valid'))\n",
        "    model.add(GlobalMaxPooling2D())\n",
        "\n",
        "    model.add(Dense(2**3))\n",
        "    model.add(Activation('relu'))\n",
        "    model.add(Dropout(0.2))\n",
        "\n",
        "    model.add(Dense(2))\n",
        "    model.add(Activation('sigmoid'))\n",
        "    adam = optimizers.Adam(lr=0.0001)\n",
        "    model.compile(loss='binary_crossentropy', optimizer=adam, metrics=['accuracy'])\n",
        "    model.summary()\n",
        "    early_stopping = EarlyStopping(monitor=\"val_loss\", patience=5)\n",
        "    modelcheckpoint = ModelCheckpoint('/gdrive/My Drive/한양대학교/NH투자증권 빅데이터 경진대회/model/news_model.h5', monitor='val_loss', mode='min', save_best_only=True)\n",
        "    history = model.fit(x_train, y_train, validation_split=0.2, epochs=epochs, batch_size=batch_size, verbose=1, callbacks=[early_stopping,modelcheckpoint])\n",
        "\n",
        "    return model, history\n",
        "\n",
        "if __name__ == \"__main__\":\n",
        "\n",
        "    with tf.device('/device:GPU:0'):\n",
        "        model, history = conv2d_cnn()\n",
        "\n",
        "    #model.save('/gdrive/My Drive/한양대학교/NH투자증권 빅데이터 경진대회/model/news_model.h5')"
      ],
      "execution_count": 8,
      "outputs": [
        {
          "output_type": "stream",
          "text": [
            "Model: \"sequential\"\n",
            "_________________________________________________________________\n",
            "Layer (type)                 Output Shape              Param #   \n",
            "=================================================================\n",
            "embedding (Embedding)        (None, 300, 400)          26214400  \n",
            "_________________________________________________________________\n",
            "reshape (Reshape)            (None, 300, 400, 1)       0         \n",
            "_________________________________________________________________\n",
            "conv2d (Conv2D)              (None, 296, 1, 400)       800400    \n",
            "_________________________________________________________________\n",
            "global_max_pooling2d (Global (None, 400)               0         \n",
            "_________________________________________________________________\n",
            "dense (Dense)                (None, 8)                 3208      \n",
            "_________________________________________________________________\n",
            "activation (Activation)      (None, 8)                 0         \n",
            "_________________________________________________________________\n",
            "dropout (Dropout)            (None, 8)                 0         \n",
            "_________________________________________________________________\n",
            "dense_1 (Dense)              (None, 2)                 18        \n",
            "_________________________________________________________________\n",
            "activation_1 (Activation)    (None, 2)                 0         \n",
            "=================================================================\n",
            "Total params: 27,018,026\n",
            "Trainable params: 27,018,026\n",
            "Non-trainable params: 0\n",
            "_________________________________________________________________\n",
            "Epoch 1/1024\n",
            "113/113 [==============================] - 77s 686ms/step - loss: 0.5380 - accuracy: 0.8000 - val_loss: 0.3662 - val_accuracy: 0.8512\n",
            "Epoch 2/1024\n",
            "113/113 [==============================] - 75s 662ms/step - loss: 0.2710 - accuracy: 0.9317 - val_loss: 0.1341 - val_accuracy: 0.9472\n",
            "Epoch 3/1024\n",
            "113/113 [==============================] - 74s 658ms/step - loss: 0.1959 - accuracy: 0.9626 - val_loss: 0.0840 - val_accuracy: 0.9671\n",
            "Epoch 4/1024\n",
            "113/113 [==============================] - 74s 655ms/step - loss: 0.1694 - accuracy: 0.9712 - val_loss: 0.0682 - val_accuracy: 0.9731\n",
            "Epoch 5/1024\n",
            "113/113 [==============================] - 74s 654ms/step - loss: 0.1539 - accuracy: 0.9754 - val_loss: 0.0597 - val_accuracy: 0.9764\n",
            "Epoch 6/1024\n",
            "113/113 [==============================] - 74s 652ms/step - loss: 0.1434 - accuracy: 0.9782 - val_loss: 0.0570 - val_accuracy: 0.9773\n",
            "Epoch 7/1024\n",
            "113/113 [==============================] - 74s 651ms/step - loss: 0.1351 - accuracy: 0.9811 - val_loss: 0.0531 - val_accuracy: 0.9787\n",
            "Epoch 8/1024\n",
            "113/113 [==============================] - 74s 653ms/step - loss: 0.1274 - accuracy: 0.9828 - val_loss: 0.0464 - val_accuracy: 0.9820\n",
            "Epoch 9/1024\n",
            "113/113 [==============================] - 74s 652ms/step - loss: 0.1221 - accuracy: 0.9845 - val_loss: 0.0434 - val_accuracy: 0.9839\n",
            "Epoch 10/1024\n",
            "113/113 [==============================] - 72s 641ms/step - loss: 0.1163 - accuracy: 0.9863 - val_loss: 0.0471 - val_accuracy: 0.9813\n",
            "Epoch 11/1024\n",
            "113/113 [==============================] - 74s 651ms/step - loss: 0.1125 - accuracy: 0.9873 - val_loss: 0.0372 - val_accuracy: 0.9871\n",
            "Epoch 12/1024\n",
            "113/113 [==============================] - 74s 653ms/step - loss: 0.1087 - accuracy: 0.9882 - val_loss: 0.0328 - val_accuracy: 0.9893\n",
            "Epoch 13/1024\n",
            "113/113 [==============================] - 74s 653ms/step - loss: 0.1044 - accuracy: 0.9895 - val_loss: 0.0324 - val_accuracy: 0.9893\n",
            "Epoch 14/1024\n",
            "113/113 [==============================] - 72s 640ms/step - loss: 0.1002 - accuracy: 0.9900 - val_loss: 0.0334 - val_accuracy: 0.9893\n",
            "Epoch 15/1024\n",
            "113/113 [==============================] - 73s 647ms/step - loss: 0.0970 - accuracy: 0.9911 - val_loss: 0.0267 - val_accuracy: 0.9920\n",
            "Epoch 16/1024\n",
            "113/113 [==============================] - 72s 636ms/step - loss: 0.0940 - accuracy: 0.9921 - val_loss: 0.0270 - val_accuracy: 0.9918\n",
            "Epoch 17/1024\n",
            "113/113 [==============================] - 73s 648ms/step - loss: 0.0917 - accuracy: 0.9927 - val_loss: 0.0242 - val_accuracy: 0.9933\n",
            "Epoch 18/1024\n",
            "113/113 [==============================] - 73s 650ms/step - loss: 0.0889 - accuracy: 0.9930 - val_loss: 0.0226 - val_accuracy: 0.9938\n",
            "Epoch 19/1024\n",
            "113/113 [==============================] - 74s 651ms/step - loss: 0.0867 - accuracy: 0.9936 - val_loss: 0.0213 - val_accuracy: 0.9944\n",
            "Epoch 20/1024\n",
            "113/113 [==============================] - 72s 638ms/step - loss: 0.0825 - accuracy: 0.9943 - val_loss: 0.0219 - val_accuracy: 0.9940\n",
            "Epoch 21/1024\n",
            "113/113 [==============================] - 73s 650ms/step - loss: 0.0804 - accuracy: 0.9945 - val_loss: 0.0204 - val_accuracy: 0.9945\n",
            "Epoch 22/1024\n",
            "113/113 [==============================] - 74s 652ms/step - loss: 0.0788 - accuracy: 0.9951 - val_loss: 0.0190 - val_accuracy: 0.9953\n",
            "Epoch 23/1024\n",
            "113/113 [==============================] - 74s 655ms/step - loss: 0.0767 - accuracy: 0.9955 - val_loss: 0.0186 - val_accuracy: 0.9953\n",
            "Epoch 24/1024\n",
            "113/113 [==============================] - 74s 653ms/step - loss: 0.0746 - accuracy: 0.9958 - val_loss: 0.0163 - val_accuracy: 0.9958\n",
            "Epoch 25/1024\n",
            "113/113 [==============================] - 73s 643ms/step - loss: 0.0721 - accuracy: 0.9963 - val_loss: 0.0173 - val_accuracy: 0.9959\n",
            "Epoch 26/1024\n",
            "113/113 [==============================] - 74s 651ms/step - loss: 0.0699 - accuracy: 0.9965 - val_loss: 0.0154 - val_accuracy: 0.9960\n",
            "Epoch 27/1024\n",
            "113/113 [==============================] - 74s 651ms/step - loss: 0.0674 - accuracy: 0.9968 - val_loss: 0.0140 - val_accuracy: 0.9964\n",
            "Epoch 28/1024\n",
            "113/113 [==============================] - 73s 642ms/step - loss: 0.0660 - accuracy: 0.9970 - val_loss: 0.0146 - val_accuracy: 0.9963\n",
            "Epoch 29/1024\n",
            "113/113 [==============================] - 73s 650ms/step - loss: 0.0642 - accuracy: 0.9973 - val_loss: 0.0131 - val_accuracy: 0.9968\n",
            "Epoch 30/1024\n",
            "113/113 [==============================] - 72s 640ms/step - loss: 0.0629 - accuracy: 0.9976 - val_loss: 0.0133 - val_accuracy: 0.9968\n",
            "Epoch 31/1024\n",
            "113/113 [==============================] - 73s 648ms/step - loss: 0.0603 - accuracy: 0.9977 - val_loss: 0.0123 - val_accuracy: 0.9969\n",
            "Epoch 32/1024\n",
            "113/113 [==============================] - 73s 648ms/step - loss: 0.0587 - accuracy: 0.9979 - val_loss: 0.0117 - val_accuracy: 0.9971\n",
            "Epoch 33/1024\n",
            "113/113 [==============================] - 74s 652ms/step - loss: 0.0562 - accuracy: 0.9981 - val_loss: 0.0115 - val_accuracy: 0.9975\n",
            "Epoch 34/1024\n",
            "113/113 [==============================] - 74s 654ms/step - loss: 0.0539 - accuracy: 0.9982 - val_loss: 0.0106 - val_accuracy: 0.9974\n",
            "Epoch 35/1024\n",
            "113/113 [==============================] - 74s 651ms/step - loss: 0.0518 - accuracy: 0.9985 - val_loss: 0.0103 - val_accuracy: 0.9976\n",
            "Epoch 36/1024\n",
            "113/113 [==============================] - 73s 650ms/step - loss: 0.0509 - accuracy: 0.9986 - val_loss: 0.0096 - val_accuracy: 0.9976\n",
            "Epoch 37/1024\n",
            "113/113 [==============================] - 73s 648ms/step - loss: 0.0495 - accuracy: 0.9988 - val_loss: 0.0092 - val_accuracy: 0.9979\n",
            "Epoch 38/1024\n",
            "113/113 [==============================] - 73s 646ms/step - loss: 0.0472 - accuracy: 0.9989 - val_loss: 0.0088 - val_accuracy: 0.9980\n",
            "Epoch 39/1024\n",
            "113/113 [==============================] - 73s 644ms/step - loss: 0.0453 - accuracy: 0.9989 - val_loss: 0.0087 - val_accuracy: 0.9982\n",
            "Epoch 40/1024\n",
            "113/113 [==============================] - 73s 646ms/step - loss: 0.0438 - accuracy: 0.9991 - val_loss: 0.0085 - val_accuracy: 0.9982\n",
            "Epoch 41/1024\n",
            "113/113 [==============================] - 73s 647ms/step - loss: 0.0410 - accuracy: 0.9992 - val_loss: 0.0082 - val_accuracy: 0.9983\n",
            "Epoch 42/1024\n",
            "113/113 [==============================] - 71s 632ms/step - loss: 0.0391 - accuracy: 0.9993 - val_loss: 0.0085 - val_accuracy: 0.9983\n",
            "Epoch 43/1024\n",
            "113/113 [==============================] - 73s 643ms/step - loss: 0.0365 - accuracy: 0.9992 - val_loss: 0.0081 - val_accuracy: 0.9984\n",
            "Epoch 44/1024\n",
            "113/113 [==============================] - 72s 634ms/step - loss: 0.0331 - accuracy: 0.9992 - val_loss: 0.0084 - val_accuracy: 0.9983\n",
            "Epoch 45/1024\n",
            "113/113 [==============================] - 72s 636ms/step - loss: 0.0292 - accuracy: 0.9992 - val_loss: 0.0086 - val_accuracy: 0.9983\n",
            "Epoch 46/1024\n",
            "113/113 [==============================] - 72s 635ms/step - loss: 0.0254 - accuracy: 0.9992 - val_loss: 0.0086 - val_accuracy: 0.9986\n",
            "Epoch 47/1024\n",
            "113/113 [==============================] - 72s 633ms/step - loss: 0.0239 - accuracy: 0.9991 - val_loss: 0.0089 - val_accuracy: 0.9985\n",
            "Epoch 48/1024\n",
            "113/113 [==============================] - 71s 632ms/step - loss: 0.0215 - accuracy: 0.9992 - val_loss: 0.0085 - val_accuracy: 0.9986\n"
          ],
          "name": "stdout"
        }
      ]
    },
    {
      "cell_type": "markdown",
      "metadata": {
        "id": "NVqt1MobyTNC"
      },
      "source": [
        "**Graph**"
      ]
    },
    {
      "cell_type": "code",
      "metadata": {
        "colab": {
          "base_uri": "https://localhost:8080/",
          "height": 573
        },
        "id": "83ONSjmhv7p0",
        "outputId": "ae03d370-5002-44c9-b0d1-56999affa999"
      },
      "source": [
        "import matplotlib.pyplot as plt\n",
        "\n",
        "acc = history.history['accuracy']\n",
        "val_acc = history.history['val_accuracy']\n",
        "loss = history.history['loss']\n",
        "val_loss = history.history['val_loss']\n",
        "epochs = range(1, len(acc) + 1)\n",
        "\n",
        "plt.plot(epochs, loss, 'r', label='Training loss')\n",
        "plt.plot(epochs, val_loss, 'b', label='Validation loss')\n",
        "plt.title('Training and validation loss')\n",
        "plt.xlabel('Epochs')\n",
        "plt.ylabel('Loss')\n",
        "plt.legend()\n",
        "plt.figure()\n",
        "plt.plot(epochs, acc, 'r', label='Training acc')\n",
        "plt.plot(epochs, val_acc, 'b', label='Validation acc')\n",
        "plt.title('Training and validation accuracy')\n",
        "plt.xlabel('Epochs')\n",
        "plt.ylabel('Accuracy')\n",
        "plt.legend()\n",
        "plt.show()"
      ],
      "execution_count": 9,
      "outputs": [
        {
          "output_type": "display_data",
          "data": {
            "image/png": "[encoded data removed]",
            "text/plain": [
              "<Figure size 432x288 with 1 Axes>"
            ]
          },
          "metadata": {
            "tags": [],
            "needs_background": "light"
          }
        },
        {
          "output_type": "display_data",
          "data": {
            "image/png": "[encoded data removed]",
            "text/plain": [
              "<Figure size 432x288 with 1 Axes>"
            ]
          },
          "metadata": {
            "tags": [],
            "needs_background": "light"
          }
        }
      ]
    },
    {
      "cell_type": "code",
      "metadata": {
        "id": "G1LOMHpfxf2x"
      },
      "source": [
        "from sklearn.metrics import classification_report\n",
        "\n",
        "#y_true = list(y_true)\n",
        "#y_pred = model.predict_classes(x_test)\n",
        "#y_pred = list(y_pred)\n",
        "\n",
        "#print(classification_report(y_true, y_pred))\n",
        "#print(pd.crosstab(pd.Series(y_true), pd.Series(y_pred), rownames=['True'], colnames=['Predicted']))"
      ],
      "execution_count": null,
      "outputs": []
    },
    {
      "cell_type": "markdown",
      "metadata": {
        "id": "T5HzHzCrtBao"
      },
      "source": [
        "# TEST"
      ]
    },
    {
      "cell_type": "code",
      "metadata": {
        "id": "iegNXRVmU6W3",
        "colab": {
          "base_uri": "https://localhost:8080/"
        },
        "outputId": "ce8f7ad8-bc48-4c80-a118-4b0717ab7305"
      },
      "source": [
        "import pandas as pd\n",
        "import numpy as np\n",
        "from tensorflow.keras.preprocessing import sequence\n",
        "from tensorflow.keras.models import load_model\n",
        "\n",
        "def convert_to_ord(data):\n",
        "    try:\n",
        "        return [ord(xx) for xx in data]\n",
        "    except:\n",
        "        print(data)\n",
        "\n",
        "news_dataset_test = pd.read_csv(\"/gdrive/My Drive/한양대학교/NH투자증권 빅데이터 경진대회/data/news_test.csv\")\n",
        "del news_dataset_test[\"n_id\"]\n",
        "del news_dataset_test[\"date\"]\n",
        "del news_dataset_test[\"title\"]\n",
        "del news_dataset_test[\"ord\"]\n",
        "\n",
        "model = load_model('/gdrive/My Drive/한양대학교/NH투자증권 빅데이터 경진대회/model/news_model.h5')\n",
        "\n",
        "x_test = sequence.pad_sequences(news_dataset_test['content'].map(convert_to_ord), maxlen=300)\n",
        "\n",
        "news_dataset_test[\"info\"] = model.predict_classes(x_test)\n",
        "\n",
        "print(news_dataset_test.groupby(\"info\").size())"
      ],
      "execution_count": 10,
      "outputs": [
        {
          "output_type": "stream",
          "text": [
            "WARNING:tensorflow:From <ipython-input-10-e6ab52a4f977>:22: Sequential.predict_classes (from tensorflow.python.keras.engine.sequential) is deprecated and will be removed after 2021-01-01.\n",
            "Instructions for updating:\n",
            "Please use instead:* `np.argmax(model.predict(x), axis=-1)`,   if your model does multi-class classification   (e.g. if it uses a `softmax` last-layer activation).* `(model.predict(x) > 0.5).astype(\"int32\")`,   if your model does binary classification   (e.g. if it uses a `sigmoid` last-layer activation).\n",
            "info\n",
            "0    88320\n",
            "1    54245\n",
            "dtype: int64\n"
          ],
          "name": "stdout"
        }
      ]
    },
    {
      "cell_type": "code",
      "metadata": {
        "id": "2-W_Tq75-3WX",
        "colab": {
          "base_uri": "https://localhost:8080/"
        },
        "outputId": "6cdf149d-a87a-438d-9e4e-882bd4c2e9e4"
      },
      "source": [
        "news_dataset_train = pd.read_csv(\"/gdrive/My Drive/한양대학교/NH투자증권 빅데이터 경진대회/data/news_train.csv\")\n",
        "del news_dataset_train[\"n_id\"]\n",
        "del news_dataset_train[\"date\"]\n",
        "del news_dataset_train[\"title\"]\n",
        "del news_dataset_train[\"ord\"]\n",
        "news_dataset_train = news_dataset_train[news_dataset_train[\"content\"]!=\"데이터에서 찾은 AI 속보\"]\n",
        "news_dataset_train = news_dataset_train[news_dataset_train[\"content\"]!=\"씨에스윈드, 193억 원 규모 윈드타워 공급계약 체결\"]\n",
        "news_dataset_train = news_dataset_train[news_dataset_train[\"content\"]!=\"씨에스윈드, 1분기 영업이익 158억 원전년비 16.1%\"]\n",
        "news_dataset_train = news_dataset_train.drop_duplicates()\n",
        "\n",
        "news_dataset_train = pd.DataFrame(news_dataset_train)\n",
        "\n",
        "for i in range(len(news_dataset_test)):\n",
        "    if len(news_dataset_train[news_dataset_train[\"content\"]==news_dataset_test.iloc[i,0]]) != 0:\n",
        "        news_dataset_test.iloc[i,2] = int(news_dataset_train[news_dataset_train[\"content\"]==news_dataset_test.iloc[i,0]][\"info\"])\n",
        "\n",
        "print(news_dataset_test.groupby(\"info\").size())"
      ],
      "execution_count": 11,
      "outputs": [
        {
          "output_type": "stream",
          "text": [
            "info\n",
            "0    88310\n",
            "1    54255\n",
            "dtype: int64\n"
          ],
          "name": "stdout"
        }
      ]
    },
    {
      "cell_type": "code",
      "metadata": {
        "id": "lxlAIngS_lJf",
        "colab": {
          "base_uri": "https://localhost:8080/"
        },
        "outputId": "9261a55c-0ff0-48c5-886f-07a2a0007f2c"
      },
      "source": [
        "def g(x):\n",
        "    if x[\"content\"] == \"데이터에서 찾은 AI 속보\":\n",
        "        return 1\n",
        "    else:\n",
        "        return x[\"info\"]\n",
        "\n",
        "news_dataset_test[\"info\"] = news_dataset_test.apply(g, axis=1)\n",
        "\n",
        "print(news_dataset_test.groupby(\"info\").size())"
      ],
      "execution_count": 12,
      "outputs": [
        {
          "output_type": "stream",
          "text": [
            "info\n",
            "0    88090\n",
            "1    54475\n",
            "dtype: int64\n"
          ],
          "name": "stdout"
        }
      ]
    },
    {
      "cell_type": "code",
      "metadata": {
        "id": "9pUqZBggHN_s"
      },
      "source": [
        "news_dataset_test = news_dataset_test[[\"id\",\"info\"]]\n",
        "\n",
        "news_dataset_test.to_csv(\"/gdrive/My Drive/한양대학교/NH투자증권 빅데이터 경진대회/result/sample_submission.csv\", index=False)"
      ],
      "execution_count": 13,
      "outputs": []
    }
  ]
}