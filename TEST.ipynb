{
  "nbformat": 4,
  "nbformat_minor": 0,
  "metadata": {
    "accelerator": "GPU",
    "colab": {
      "name": "TEST.ipynb",
      "provenance": [],
      "collapsed_sections": [],
      "machine_shape": "hm",
      "authorship_tag": "ABX9TyNvIf7HcGzKRj11je0owaEk"
    },
    "kernelspec": {
      "display_name": "Python 3",
      "name": "python3"
    }
  },
  "cells": [
    {
      "cell_type": "markdown",
      "metadata": {
        "id": "uyBLhiZXszNZ"
      },
      "source": [
        "# 기본 설정"
      ]
    },
    {
      "cell_type": "code",
      "metadata": {
        "id": "WeivjdYTfed2",
        "colab": {
          "base_uri": "https://localhost:8080/"
        },
        "outputId": "151028c1-76a0-471e-91b2-dc07149315d1"
      },
      "source": [
        "from google.colab import drive\n",
        "drive.mount('/gdrive')"
      ],
      "execution_count": null,
      "outputs": [
        {
          "output_type": "stream",
          "text": [
            "Mounted at /gdrive\n"
          ],
          "name": "stdout"
        }
      ]
    },
    {
      "cell_type": "markdown",
      "metadata": {
        "id": "UFvzr28vshoa"
      },
      "source": [
        "# EDA"
      ]
    },
    {
      "cell_type": "code",
      "metadata": {
        "id": "nrrKxoz50BtR"
      },
      "source": [
        "import pandas as pd\n",
        "import matplotlib.pyplot as plt\n",
        "\n",
        "news_dataset_path = r\"/gdrive/My Drive/한양대학교/NH투자증권 빅데이터 경진대회/data/news_train.csv\"\n",
        "\n",
        "news_dataset = pd.read_csv(news_dataset_path)\n",
        "\n",
        "del news_dataset[\"n_id\"]\n",
        "del news_dataset[\"date\"]\n",
        "del news_dataset[\"title\"]\n",
        "del news_dataset[\"ord\"]\n",
        "\n",
        "news_dataset = news_dataset.drop_duplicates()\n",
        "\n",
        "news_dataset = news_dataset.groupby([\"content\"]).size()\n",
        "\n",
        "print(news_dataset)"
      ],
      "execution_count": null,
      "outputs": []
    },
    {
      "cell_type": "markdown",
      "metadata": {
        "id": "oIyDeZ3hycTV"
      },
      "source": [
        "**중복 제거 전**"
      ]
    },
    {
      "cell_type": "code",
      "metadata": {
        "id": "Tla-mDkYsDEL",
        "colab": {
          "base_uri": "https://localhost:8080/",
          "height": 398
        },
        "outputId": "ca6422b5-55a1-4aa4-d0d3-a2c86bff5224"
      },
      "source": [
        "import pandas as pd\n",
        "import matplotlib.pyplot as plt\n",
        "\n",
        "news_dataset_path = r\"/gdrive/My Drive/한양대학교/NH투자증권 빅데이터 경진대회/data/news_train.csv\"\n",
        "\n",
        "news_dataset = pd.read_csv(news_dataset_path)\n",
        "\n",
        "del news_dataset[\"n_id\"]\n",
        "del news_dataset[\"date\"]\n",
        "del news_dataset[\"title\"]\n",
        "del news_dataset[\"ord\"]\n",
        "\n",
        "news_dataset = news_dataset[news_dataset[\"content\"]!=\"데이터에서 찾은 AI 속보\"]\n",
        "news_dataset = news_dataset[news_dataset[\"content\"]!=\"씨에스윈드, 193억 원 규모 윈드타워 공급계약 체결\"]\n",
        "news_dataset = news_dataset[news_dataset[\"content\"]!=\"씨에스윈드, 1분기 영업이익 158억 원전년비 16.1%\"]\n",
        "\n",
        "print(news_dataset.groupby(news_dataset[\"info\"]).size())\n",
        "print('문장의 개수 :', str(len(news_dataset))+'문장')\n",
        "print('문장의 최대 길이 :', str(max(len(l) for l in news_dataset['content']))+'글자')\n",
        "print('문장의 평균 길이 :', str(round(sum(map(len, news_dataset['content'])) / len(news_dataset['content'])))+'글자')\n",
        "\n",
        "plt.hist([len(s) for s in news_dataset['content']], bins=400)\n",
        "plt.xlim(0,300)\n",
        "plt.xlabel('length of Data')\n",
        "plt.ylabel('number of Data')\n",
        "plt.show()"
      ],
      "execution_count": null,
      "outputs": [
        {
          "output_type": "stream",
          "text": [
            "info\n",
            "0    71785\n",
            "1    46864\n",
            "dtype: int64\n",
            "문장의 개수 : 118649문장\n",
            "문장의 최대 길이 : 3469글자\n",
            "문장의 평균 길이 : 51글자\n"
          ],
          "name": "stdout"
        },
        {
          "output_type": "display_data",
          "data": {
            "image/png": "[encoded data removed]",
            "text/plain": [
              "<Figure size 432x288 with 1 Axes>"
            ]
          },
          "metadata": {
            "tags": [],
            "needs_background": "light"
          }
        }
      ]
    },
    {
      "cell_type": "markdown",
      "metadata": {
        "id": "UP2tD_N2yl-i"
      },
      "source": [
        "**중복 제거 후**"
      ]
    },
    {
      "cell_type": "code",
      "metadata": {
        "id": "MnBsN7CE5Y11",
        "colab": {
          "base_uri": "https://localhost:8080/",
          "height": 398
        },
        "outputId": "4194a687-d93e-4497-ceb0-5223c59af573"
      },
      "source": [
        "import pandas as pd\n",
        "import matplotlib.pyplot as plt\n",
        "\n",
        "news_dataset_path = r\"/gdrive/My Drive/한양대학교/NH투자증권 빅데이터 경진대회/data/news_train.csv\"\n",
        "\n",
        "news_dataset = pd.read_csv(news_dataset_path)\n",
        "\n",
        "del news_dataset[\"n_id\"]\n",
        "del news_dataset[\"date\"]\n",
        "del news_dataset[\"title\"]\n",
        "del news_dataset[\"ord\"]\n",
        "\n",
        "news_dataset = news_dataset[news_dataset[\"content\"]!=\"데이터에서 찾은 AI 속보\"]\n",
        "news_dataset = news_dataset[news_dataset[\"content\"]!=\"씨에스윈드, 193억 원 규모 윈드타워 공급계약 체결\"]\n",
        "news_dataset = news_dataset[news_dataset[\"content\"]!=\"씨에스윈드, 1분기 영업이익 158억 원전년비 16.1%\"]\n",
        "\n",
        "news_dataset = news_dataset.drop_duplicates()\n",
        "\n",
        "print(news_dataset.groupby(news_dataset[\"info\"]).size())\n",
        "print('문장의 개수 :', str(len(news_dataset))+'문장')\n",
        "print('문장의 최대 길이 :', str(max(len(l) for l in news_dataset['content']))+'글자')\n",
        "print('문장의 평균 길이 :', str(round(sum(map(len, news_dataset['content'])) / len(news_dataset['content'])))+'글자')\n",
        "\n",
        "plt.hist([len(s) for s in news_dataset['content']], bins=400)\n",
        "plt.xlim(0,300)\n",
        "plt.xlabel('length of Data')\n",
        "plt.ylabel('number of Data')\n",
        "plt.show()"
      ],
      "execution_count": null,
      "outputs": [
        {
          "output_type": "stream",
          "text": [
            "info\n",
            "0    40367\n",
            "1     5791\n",
            "dtype: int64\n",
            "문장의 개수 : 46158문장\n",
            "문장의 최대 길이 : 3469글자\n",
            "문장의 평균 길이 : 63글자\n"
          ],
          "name": "stdout"
        },
        {
          "output_type": "display_data",
          "data": {
            "image/png": "[encoded data removed]",
            "text/plain": [
              "<Figure size 432x288 with 1 Axes>"
            ]
          },
          "metadata": {
            "tags": [],
            "needs_background": "light"
          }
        }
      ]
    },
    {
      "cell_type": "code",
      "metadata": {
        "id": "cbHvQ0rOxR9N"
      },
      "source": [
        "max_len = 300"
      ],
      "execution_count": null,
      "outputs": []
    },
    {
      "cell_type": "markdown",
      "metadata": {
        "id": "7oA9Z_8RspX2"
      },
      "source": [
        "# Data Preprocessing"
      ]
    },
    {
      "cell_type": "code",
      "metadata": {
        "id": "7a6JRqCn7vPy",
        "colab": {
          "base_uri": "https://localhost:8080/"
        },
        "outputId": "865ee8ed-c9d3-4639-c40d-f08d8a78d89a"
      },
      "source": [
        "import pandas as pd\n",
        "import copy\n",
        "from sklearn.model_selection import train_test_split\n",
        "from sklearn.preprocessing import LabelEncoder; LE = LabelEncoder()\n",
        "from tensorflow.keras.preprocessing import sequence\n",
        "from tensorflow.keras.utils import to_categorical\n",
        "from imblearn.over_sampling import SMOTE\n",
        "\n",
        "def convert_to_ord(data):\n",
        "    try:\n",
        "        return [ord(xx) for xx in data]\n",
        "    except:\n",
        "        print(data)\n",
        "\n",
        "news_dataset_path = r\"/gdrive/My Drive/한양대학교/NH투자증권 빅데이터 경진대회/data/news_train.csv\"\n",
        "\n",
        "news_dataset = pd.read_csv(news_dataset_path)\n",
        "\n",
        "del news_dataset[\"n_id\"]\n",
        "del news_dataset[\"date\"]\n",
        "del news_dataset[\"title\"]\n",
        "del news_dataset[\"ord\"]\n",
        "\n",
        "news_dataset = news_dataset[news_dataset[\"content\"]!=\"데이터에서 찾은 AI 속보\"]\n",
        "news_dataset = news_dataset[news_dataset[\"content\"]!=\"씨에스윈드, 193억 원 규모 윈드타워 공급계약 체결\"]\n",
        "news_dataset = news_dataset[news_dataset[\"content\"]!=\"씨에스윈드, 1분기 영업이익 158억 원전년비 16.1%\"]\n",
        "\n",
        "news_dataset = news_dataset.drop_duplicates()\n",
        "\n",
        "news_dataset['content'] = news_dataset['content'].map(convert_to_ord)\n",
        "news_dataset['info'] = LE.fit_transform(news_dataset['info'])\n",
        "\n",
        "data = sequence.pad_sequences(news_dataset['content'], maxlen=max_len)\n",
        "\n",
        "x_train = data\n",
        "y_train = news_dataset['info']\n",
        "\n",
        "#x_train, x_test, y_train, y_test = train_test_split(data, news_dataset['info'], test_size=0.1, random_state=42)\n",
        "\n",
        "sm = SMOTE(random_state=42)\n",
        "x_train, y_train = sm.fit_resample(x_train, y_train)\n",
        "\n",
        "#y_true = copy.deepcopy(y_test)\n",
        "y_train = to_categorical(y_train)\n",
        "#y_test = to_categorical(y_test)\n",
        "\n",
        "print('train_shape : {} / {}'.format(x_train.shape, y_train.shape))\n",
        "#print('test_shape : {} / {}'.format(x_test.shape, y_test.shape))"
      ],
      "execution_count": null,
      "outputs": [
        {
          "output_type": "stream",
          "text": [
            "/usr/local/lib/python3.6/dist-packages/sklearn/externals/six.py:31: FutureWarning: The module is deprecated in version 0.21 and will be removed in version 0.23 since we've dropped support for Python 2.7. Please rely on the official version of six (https://pypi.org/project/six/).\n",
            "  \"(https://pypi.org/project/six/).\", FutureWarning)\n",
            "/usr/local/lib/python3.6/dist-packages/sklearn/utils/deprecation.py:144: FutureWarning: The sklearn.neighbors.base module is  deprecated in version 0.22 and will be removed in version 0.24. The corresponding classes / functions should instead be imported from sklearn.neighbors. Anything that cannot be imported from sklearn.neighbors is now part of the private API.\n",
            "  warnings.warn(message, FutureWarning)\n",
            "/usr/local/lib/python3.6/dist-packages/sklearn/utils/deprecation.py:87: FutureWarning: Function safe_indexing is deprecated; safe_indexing is deprecated in version 0.22 and will be removed in version 0.24.\n",
            "  warnings.warn(msg, category=FutureWarning)\n"
          ],
          "name": "stderr"
        },
        {
          "output_type": "stream",
          "text": [
            "train_shape : (80734, 300) / (80734, 2)\n"
          ],
          "name": "stdout"
        }
      ]
    },
    {
      "cell_type": "markdown",
      "metadata": {
        "id": "x6W4pPmEstmH"
      },
      "source": [
        "# TRAIN"
      ]
    },
    {
      "cell_type": "markdown",
      "metadata": {
        "id": "E7B9QSU5yI0R"
      },
      "source": [
        "**Hyperparameter**"
      ]
    },
    {
      "cell_type": "code",
      "metadata": {
        "id": "giGqC8gcvhIR"
      },
      "source": [
        "output_dim = 400\n",
        "filters = 400\n",
        "filter_sizes = [2, 3, 4, 5]\n",
        "epochs = 2**10\n",
        "batch_size = 2**10"
      ],
      "execution_count": null,
      "outputs": []
    },
    {
      "cell_type": "markdown",
      "metadata": {
        "id": "SzMxWVpayOs-"
      },
      "source": [
        "**CNN**"
      ]
    },
    {
      "cell_type": "code",
      "metadata": {
        "id": "jVyipihjfxER",
        "colab": {
          "base_uri": "https://localhost:8080/"
        },
        "outputId": "e9b03310-9fef-4e9b-d02f-5625cba86bf6"
      },
      "source": [
        "import tensorflow as tf\n",
        "from tensorflow.keras.models import Model, Sequential\n",
        "from tensorflow.keras.layers import Input, Conv2D, Activation, MaxPooling2D, concatenate, Embedding, Reshape, Flatten, Dense, Dropout\n",
        "from tensorflow.keras import optimizers\n",
        "from tensorflow.keras.callbacks import EarlyStopping, ModelCheckpoint\n",
        "\n",
        "def convolution():\n",
        "    inn = Input(shape = (max_len, output_dim, 1))\n",
        "    convolutions = []\n",
        "    for fs in filter_sizes:\n",
        "        conv = Conv2D(filters = filters, kernel_size = (fs, output_dim), strides = 1, padding = \"valid\")(inn)\n",
        "        nonlinearity = Activation('relu')(conv)\n",
        "        maxpool = MaxPooling2D(pool_size = (max_len - fs + 1, 1), padding = \"valid\")(nonlinearity)\n",
        "        convolutions.append(maxpool)\n",
        "    outt = concatenate(convolutions)\n",
        "    model = Model(inputs = inn, outputs = outt)\n",
        "    return model\n",
        "\n",
        "def conv2d_cnn():\n",
        "    model = Sequential()\n",
        "    model.add(Embedding(input_dim=2**16, output_dim=output_dim, input_length=max_len))\n",
        "    model.add(Reshape((max_len, output_dim, 1), input_shape=(max_len, output_dim)))\n",
        "    model.add(convolution())\n",
        "    model.add(Flatten())\n",
        "\n",
        "    model.add(Dense(2**3))\n",
        "    model.add(Activation('relu'))\n",
        "    model.add(Dropout(0.2))\n",
        "\n",
        "    model.add(Dense(2))\n",
        "    model.add(Activation('sigmoid'))\n",
        "    adam = optimizers.Adam(lr=0.001)\n",
        "    model.compile(loss='binary_crossentropy', optimizer=adam, metrics=['accuracy'])\n",
        "    model.summary()\n",
        "    early_stopping = EarlyStopping(monitor=\"val_loss\", patience=5)\n",
        "    modelcheckpoint = ModelCheckpoint('/gdrive/My Drive/한양대학교/NH투자증권 빅데이터 경진대회/model/news_model.h5', monitor='val_loss', mode='min', save_best_only=True)\n",
        "    history = model.fit(x_train, y_train, validation_split=0.2, epochs=epochs, batch_size=batch_size, verbose=1, callbacks=[early_stopping,modelcheckpoint])\n",
        "\n",
        "    return model, history\n",
        "\n",
        "if __name__ == \"__main__\":\n",
        "\n",
        "    with tf.device('/device:GPU:0'):\n",
        "        model, history = conv2d_cnn()\n",
        "\n",
        "    #model.save('/gdrive/My Drive/한양대학교/NH투자증권 빅데이터 경진대회/model/news_model.h5')\n"
      ],
      "execution_count": null,
      "outputs": [
        {
          "output_type": "stream",
          "text": [
            "Model: \"sequential_2\"\n",
            "_________________________________________________________________\n",
            "Layer (type)                 Output Shape              Param #   \n",
            "=================================================================\n",
            "embedding_2 (Embedding)      (None, 300, 400)          26214400  \n",
            "_________________________________________________________________\n",
            "reshape_2 (Reshape)          (None, 300, 400, 1)       0         \n",
            "_________________________________________________________________\n",
            "functional_1 (Functional)    (None, 1, 1, 1600)        2241600   \n",
            "_________________________________________________________________\n",
            "flatten (Flatten)            (None, 1600)              0         \n",
            "_________________________________________________________________\n",
            "dense (Dense)                (None, 64)                102464    \n",
            "_________________________________________________________________\n",
            "activation_4 (Activation)    (None, 64)                0         \n",
            "_________________________________________________________________\n",
            "dropout (Dropout)            (None, 64)                0         \n",
            "_________________________________________________________________\n",
            "dense_1 (Dense)              (None, 2)                 130       \n",
            "_________________________________________________________________\n",
            "activation_5 (Activation)    (None, 2)                 0         \n",
            "=================================================================\n",
            "Total params: 28,558,594\n",
            "Trainable params: 28,558,594\n",
            "Non-trainable params: 0\n",
            "_________________________________________________________________\n",
            "Epoch 1/1024\n",
            "64/64 [==============================] - 65s 1s/step - loss: 0.1968 - accuracy: 0.9058 - val_loss: 0.0129 - val_accuracy: 0.9994\n",
            "Epoch 2/1024\n",
            "64/64 [==============================] - 63s 991ms/step - loss: 0.0598 - accuracy: 0.9780 - val_loss: 0.0039 - val_accuracy: 0.9996\n",
            "Epoch 3/1024\n",
            "64/64 [==============================] - 63s 979ms/step - loss: 0.0427 - accuracy: 0.9847 - val_loss: 0.0012 - val_accuracy: 0.9998\n",
            "Epoch 4/1024\n",
            "64/64 [==============================] - 60s 944ms/step - loss: 0.0345 - accuracy: 0.9876 - val_loss: 0.0024 - val_accuracy: 0.9994\n",
            "Epoch 5/1024\n",
            "64/64 [==============================] - 60s 945ms/step - loss: 0.0201 - accuracy: 0.9941 - val_loss: 0.0032 - val_accuracy: 0.9991\n",
            "Epoch 6/1024\n",
            "64/64 [==============================] - 60s 943ms/step - loss: 0.0117 - accuracy: 0.9970 - val_loss: 0.0021 - val_accuracy: 0.9993\n",
            "Epoch 7/1024\n",
            "64/64 [==============================] - 60s 944ms/step - loss: 0.0056 - accuracy: 0.9990 - val_loss: 0.0024 - val_accuracy: 0.9992\n",
            "Epoch 8/1024\n",
            "64/64 [==============================] - 60s 945ms/step - loss: 0.0031 - accuracy: 0.9994 - val_loss: 0.0016 - val_accuracy: 0.9994\n"
          ],
          "name": "stdout"
        }
      ]
    },
    {
      "cell_type": "markdown",
      "metadata": {
        "id": "NVqt1MobyTNC"
      },
      "source": [
        "**Graph**"
      ]
    },
    {
      "cell_type": "code",
      "metadata": {
        "id": "83ONSjmhv7p0",
        "colab": {
          "base_uri": "https://localhost:8080/",
          "height": 573
        },
        "outputId": "6c6cdcfa-140d-42db-f42c-dc59cf5f4a4e"
      },
      "source": [
        "import matplotlib.pyplot as plt\n",
        "\n",
        "acc = history.history['accuracy']\n",
        "val_acc = history.history['val_accuracy']\n",
        "loss = history.history['loss']\n",
        "val_loss = history.history['val_loss']\n",
        "epochs = range(1, len(acc) + 1)\n",
        "\n",
        "plt.plot(epochs, loss, 'r', label='Training loss')\n",
        "plt.plot(epochs, val_loss, 'b', label='Validation loss')\n",
        "plt.title('Training and validation loss')\n",
        "plt.xlabel('Epochs')\n",
        "plt.ylabel('Loss')\n",
        "plt.legend()\n",
        "plt.figure()\n",
        "plt.plot(epochs, acc, 'r', label='Training acc')\n",
        "plt.plot(epochs, val_acc, 'b', label='Validation acc')\n",
        "plt.title('Training and validation accuracy')\n",
        "plt.xlabel('Epochs')\n",
        "plt.ylabel('Accuracy')\n",
        "plt.legend()\n",
        "plt.show()"
      ],
      "execution_count": null,
      "outputs": [
        {
          "output_type": "display_data",
          "data": {
            "image/png": "[encoded data removed]",
            "text/plain": [
              "<Figure size 432x288 with 1 Axes>"
            ]
          },
          "metadata": {
            "tags": [],
            "needs_background": "light"
          }
        },
        {
          "output_type": "display_data",
          "data": {
            "image/png": "[encoded data removed]",
            "text/plain": [
              "<Figure size 432x288 with 1 Axes>"
            ]
          },
          "metadata": {
            "tags": [],
            "needs_background": "light"
          }
        }
      ]
    },
    {
      "cell_type": "code",
      "metadata": {
        "id": "G1LOMHpfxf2x"
      },
      "source": [
        "from sklearn.metrics import classification_report\n",
        "\n",
        "#y_true = list(y_true)\n",
        "#y_pred = model.predict_classes(x_test)\n",
        "#y_pred = list(y_pred)\n",
        "\n",
        "#print(classification_report(y_true, y_pred))\n",
        "#print(pd.crosstab(pd.Series(y_true), pd.Series(y_pred), rownames=['True'], colnames=['Predicted']))"
      ],
      "execution_count": null,
      "outputs": []
    },
    {
      "cell_type": "markdown",
      "metadata": {
        "id": "T5HzHzCrtBao"
      },
      "source": [
        "# TEST"
      ]
    },
    {
      "cell_type": "code",
      "metadata": {
        "id": "iegNXRVmU6W3",
        "colab": {
          "base_uri": "https://localhost:8080/"
        },
        "outputId": "dec6e1fe-322d-4f62-f830-91af5a6d301d"
      },
      "source": [
        "import pandas as pd\n",
        "import numpy as np\n",
        "from tensorflow.keras.preprocessing import sequence\n",
        "from tensorflow.keras.models import load_model\n",
        "\n",
        "def convert_to_ord(data):\n",
        "    try:\n",
        "        return [ord(xx) for xx in data]\n",
        "    except:\n",
        "        print(data)\n",
        "\n",
        "news_dataset_test = pd.read_csv(\"/gdrive/My Drive/한양대학교/NH투자증권 빅데이터 경진대회/data/news_test.csv\")\n",
        "del news_dataset_test[\"n_id\"]\n",
        "del news_dataset_test[\"date\"]\n",
        "del news_dataset_test[\"title\"]\n",
        "del news_dataset_test[\"ord\"]\n",
        "\n",
        "model = load_model('/gdrive/My Drive/한양대학교/NH투자증권 빅데이터 경진대회/model/news_model.h5')\n",
        "\n",
        "x_test = sequence.pad_sequences(news_dataset_test['content'].map(convert_to_ord), maxlen=300)\n",
        "\n",
        "news_dataset_test[\"info\"] = model.predict_classes(x_test)\n",
        "\n",
        "print(news_dataset_test.groupby(\"info\").size())"
      ],
      "execution_count": null,
      "outputs": [
        {
          "output_type": "stream",
          "text": [
            "WARNING:tensorflow:From <ipython-input-12-e6ab52a4f977>:22: Sequential.predict_classes (from tensorflow.python.keras.engine.sequential) is deprecated and will be removed after 2021-01-01.\n",
            "Instructions for updating:\n",
            "Please use instead:* `np.argmax(model.predict(x), axis=-1)`,   if your model does multi-class classification   (e.g. if it uses a `softmax` last-layer activation).* `(model.predict(x) > 0.5).astype(\"int32\")`,   if your model does binary classification   (e.g. if it uses a `sigmoid` last-layer activation).\n",
            "info\n",
            "0    86627\n",
            "1    55938\n",
            "dtype: int64\n"
          ],
          "name": "stdout"
        }
      ]
    },
    {
      "cell_type": "code",
      "metadata": {
        "id": "2-W_Tq75-3WX",
        "colab": {
          "base_uri": "https://localhost:8080/"
        },
        "outputId": "a4401ae4-8f76-4670-8a1b-320390190f8f"
      },
      "source": [
        "news_dataset_train = pd.read_csv(\"/gdrive/My Drive/한양대학교/NH투자증권 빅데이터 경진대회/data/news_train.csv\")\n",
        "del news_dataset_train[\"n_id\"]\n",
        "del news_dataset_train[\"date\"]\n",
        "del news_dataset_train[\"title\"]\n",
        "del news_dataset_train[\"ord\"]\n",
        "news_dataset_train = news_dataset_train[news_dataset_train[\"content\"]!=\"데이터에서 찾은 AI 속보\"]\n",
        "news_dataset_train = news_dataset_train[news_dataset_train[\"content\"]!=\"씨에스윈드, 193억 원 규모 윈드타워 공급계약 체결\"]\n",
        "news_dataset_train = news_dataset_train[news_dataset_train[\"content\"]!=\"씨에스윈드, 1분기 영업이익 158억 원전년비 16.1%\"]\n",
        "news_dataset_train = news_dataset_train.drop_duplicates()\n",
        "\n",
        "news_dataset_train = pd.DataFrame(news_dataset_train)\n",
        "\n",
        "for i in range(len(news_dataset_test)):\n",
        "    if len(news_dataset_train[news_dataset_train[\"content\"]==news_dataset_test.iloc[i,0]]) != 0:\n",
        "        news_dataset_test.iloc[i,2] = int(news_dataset_train[news_dataset_train[\"content\"]==news_dataset_test.iloc[i,0]][\"info\"])\n",
        "\n",
        "print(news_dataset_test.groupby(\"info\").size())"
      ],
      "execution_count": null,
      "outputs": [
        {
          "output_type": "stream",
          "text": [
            "info\n",
            "0    85861\n",
            "1    56704\n",
            "dtype: int64\n"
          ],
          "name": "stdout"
        }
      ]
    },
    {
      "cell_type": "code",
      "metadata": {
        "id": "lxlAIngS_lJf",
        "colab": {
          "base_uri": "https://localhost:8080/"
        },
        "outputId": "3f6f7776-3fde-4f76-bb8b-276f748ebc73"
      },
      "source": [
        "def g(x):\n",
        "    if x[\"content\"] == \"데이터에서 찾은 AI 속보\":\n",
        "        return 1\n",
        "    else:\n",
        "        return x[\"info\"]\n",
        "\n",
        "news_dataset_test[\"info\"] = news_dataset_test.apply(g, axis=1)\n",
        "\n",
        "print(news_dataset_test.groupby(\"info\").size())"
      ],
      "execution_count": null,
      "outputs": [
        {
          "output_type": "stream",
          "text": [
            "info\n",
            "0    85861\n",
            "1    56704\n",
            "dtype: int64\n"
          ],
          "name": "stdout"
        }
      ]
    },
    {
      "cell_type": "code",
      "metadata": {
        "id": "9pUqZBggHN_s"
      },
      "source": [
        "news_dataset_test = news_dataset_test[[\"id\",\"info\"]]\n",
        "\n",
        "news_dataset_test.to_csv(\"/gdrive/My Drive/한양대학교/NH투자증권 빅데이터 경진대회/result/sample_submission.csv\", index=False)"
      ],
      "execution_count": null,
      "outputs": []
    }
  ]
}