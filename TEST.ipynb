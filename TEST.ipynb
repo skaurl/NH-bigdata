{
  "nbformat": 4,
  "nbformat_minor": 0,
  "metadata": {
    "accelerator": "GPU",
    "colab": {
      "name": "TEST.ipynb",
      "provenance": [],
      "collapsed_sections": [],
      "machine_shape": "hm",
      "authorship_tag": "ABX9TyNY8Z7N+ksHgp+k8Dp2t7iA"
    },
    "kernelspec": {
      "display_name": "Python 3",
      "name": "python3"
    }
  },
  "cells": [
    {
      "cell_type": "markdown",
      "metadata": {
        "id": "uyBLhiZXszNZ"
      },
      "source": [
        "# 기본 설정"
      ]
    },
    {
      "cell_type": "code",
      "metadata": {
        "colab": {
          "base_uri": "https://localhost:8080/"
        },
        "id": "WeivjdYTfed2",
        "outputId": "79024252-bfcb-4f0d-c55c-5c4833a9c8f5"
      },
      "source": [
        "from google.colab import drive\n",
        "drive.mount('/gdrive')"
      ],
      "execution_count": 1,
      "outputs": [
        {
          "output_type": "stream",
          "text": [
            "Mounted at /gdrive\n"
          ],
          "name": "stdout"
        }
      ]
    },
    {
      "cell_type": "markdown",
      "metadata": {
        "id": "UFvzr28vshoa"
      },
      "source": [
        "# EDA"
      ]
    },
    {
      "cell_type": "markdown",
      "metadata": {
        "id": "aHZMinR_w5mE"
      },
      "source": [
        "**ERROR**"
      ]
    },
    {
      "cell_type": "code",
      "metadata": {
        "colab": {
          "base_uri": "https://localhost:8080/"
        },
        "id": "-aGzHWOmvWIO",
        "outputId": "b4e1ce9c-998a-460d-858c-30b5a208b38b"
      },
      "source": [
        "import pandas as pd\n",
        "\n",
        "news_dataset_train = pd.read_csv(\"/gdrive/My Drive/한양대학교/NH투자증권 빅데이터 경진대회/data/news_train.csv\")\n",
        "del news_dataset_train[\"n_id\"]\n",
        "del news_dataset_train[\"date\"]\n",
        "del news_dataset_train[\"title\"]\n",
        "del news_dataset_train[\"ord\"]\n",
        "\n",
        "news_dataset_train = news_dataset_train.drop_duplicates()\n",
        "\n",
        "news_dataset_train = news_dataset_train.groupby(\"content\").size()\n",
        "\n",
        "news_dataset_train = pd.DataFrame(news_dataset_train)\n",
        "\n",
        "news_dataset_train = news_dataset_train.reset_index()\n",
        "\n",
        "print(news_dataset_train[news_dataset_train[0]!=1])"
      ],
      "execution_count": null,
      "outputs": [
        {
          "output_type": "stream",
          "text": [
            "                               content  0\n",
            "15886                   데이터에서 찾은 AI 속보  2\n",
            "25031    씨에스윈드, 193억 원 규모 윈드타워 공급계약 체결  2\n",
            "25032  씨에스윈드, 1분기 영업이익 158억 원전년비 16.1%  2\n"
          ],
          "name": "stdout"
        }
      ]
    },
    {
      "cell_type": "code",
      "metadata": {
        "colab": {
          "base_uri": "https://localhost:8080/"
        },
        "id": "IGtqkENXwIGU",
        "outputId": "f75335f6-7c4c-4495-d09a-8902ad23a094"
      },
      "source": [
        "import pandas as pd\n",
        "\n",
        "news_dataset_train = pd.read_csv(\"/gdrive/My Drive/한양대학교/NH투자증권 빅데이터 경진대회/data/news_train.csv\")\n",
        "del news_dataset_train[\"n_id\"]\n",
        "del news_dataset_train[\"date\"]\n",
        "del news_dataset_train[\"title\"]\n",
        "del news_dataset_train[\"ord\"]\n",
        "\n",
        "news_dataset_train = news_dataset_train.drop_duplicates()\n",
        "\n",
        "print(news_dataset_train[news_dataset_train[\"content\"]==\"데이터에서 찾은 AI 속보\"])\n",
        "print(news_dataset_train[news_dataset_train[\"content\"]==\"씨에스윈드, 193억 원 규모 윈드타워 공급계약 체결\"])\n",
        "print(news_dataset_train[news_dataset_train[\"content\"]==\"씨에스윈드, 1분기 영업이익 158억 원전년비 16.1%\"])"
      ],
      "execution_count": null,
      "outputs": [
        {
          "output_type": "stream",
          "text": [
            "              content  info\n",
            "35935  데이터에서 찾은 AI 속보     0\n",
            "43736  데이터에서 찾은 AI 속보     1\n",
            "                             content  info\n",
            "50768  씨에스윈드, 193억 원 규모 윈드타워 공급계약 체결     0\n",
            "50772  씨에스윈드, 193억 원 규모 윈드타워 공급계약 체결     1\n",
            "                               content  info\n",
            "50754  씨에스윈드, 1분기 영업이익 158억 원전년비 16.1%     0\n",
            "50774  씨에스윈드, 1분기 영업이익 158억 원전년비 16.1%     1\n"
          ],
          "name": "stdout"
        }
      ]
    },
    {
      "cell_type": "markdown",
      "metadata": {
        "id": "3PEH92MSwzRn"
      },
      "source": [
        "**Baeseline**"
      ]
    },
    {
      "cell_type": "code",
      "metadata": {
        "colab": {
          "base_uri": "https://localhost:8080/"
        },
        "id": "IaE0Gs9IqAq_",
        "outputId": "bd162180-5e37-4cf5-9a9a-01e0fc81193d"
      },
      "source": [
        "import pandas as pd\n",
        "import numpy as np\n",
        "from tqdm import tqdm\n",
        "\n",
        "news_dataset_test = pd.read_csv(\"/gdrive/My Drive/한양대학교/NH투자증권 빅데이터 경진대회/data/news_test.csv\")\n",
        "del news_dataset_test[\"n_id\"]\n",
        "del news_dataset_test[\"date\"]\n",
        "del news_dataset_test[\"title\"]\n",
        "del news_dataset_test[\"ord\"]\n",
        "\n",
        "news_dataset_test[\"info\"] = np.nan\n",
        "\n",
        "news_dataset_train = pd.read_csv(\"/gdrive/My Drive/한양대학교/NH투자증권 빅데이터 경진대회/data/news_train.csv\")\n",
        "del news_dataset_train[\"n_id\"]\n",
        "del news_dataset_train[\"date\"]\n",
        "del news_dataset_train[\"title\"]\n",
        "del news_dataset_train[\"ord\"]\n",
        "news_dataset_train = news_dataset_train[news_dataset_train[\"content\"]!=\"데이터에서 찾은 AI 속보\"]\n",
        "news_dataset_train = news_dataset_train[news_dataset_train[\"content\"]!=\"씨에스윈드, 193억 원 규모 윈드타워 공급계약 체결\"]\n",
        "news_dataset_train = news_dataset_train[news_dataset_train[\"content\"]!=\"씨에스윈드, 1분기 영업이익 158억 원전년비 16.1%\"]\n",
        "news_dataset_train = news_dataset_train.drop_duplicates()\n",
        "\n",
        "news_dataset_train = pd.DataFrame(news_dataset_train)\n",
        "\n",
        "for i in tqdm(range(len(news_dataset_test))):\n",
        "    if len(news_dataset_train[news_dataset_train[\"content\"]==news_dataset_test.iloc[i,0]]) != 0:\n",
        "        news_dataset_test.iloc[i,2] = int(news_dataset_train[news_dataset_train[\"content\"]==news_dataset_test.iloc[i,0]][\"info\"])\n",
        "\n",
        "print(news_dataset_test.groupby(\"info\").size())"
      ],
      "execution_count": null,
      "outputs": [
        {
          "output_type": "stream",
          "text": [
            "100%|██████████| 142565/142565 [12:06<00:00, 196.16it/s]"
          ],
          "name": "stderr"
        },
        {
          "output_type": "stream",
          "text": [
            "info\n",
            "0.0     8379\n",
            "1.0    45715\n",
            "dtype: int64\n"
          ],
          "name": "stdout"
        },
        {
          "output_type": "stream",
          "text": [
            "\n"
          ],
          "name": "stderr"
        }
      ]
    },
    {
      "cell_type": "markdown",
      "metadata": {
        "id": "oIyDeZ3hycTV"
      },
      "source": [
        "**중복 제거 전**"
      ]
    },
    {
      "cell_type": "code",
      "metadata": {
        "colab": {
          "base_uri": "https://localhost:8080/",
          "height": 398
        },
        "id": "Tla-mDkYsDEL",
        "outputId": "71964e7c-e442-4634-b402-cd37912e85e0"
      },
      "source": [
        "import pandas as pd\n",
        "import matplotlib.pyplot as plt\n",
        "\n",
        "news_dataset_path = r\"/gdrive/My Drive/한양대학교/NH투자증권 빅데이터 경진대회/data/news_train.csv\"\n",
        "\n",
        "news_dataset = pd.read_csv(news_dataset_path)\n",
        "\n",
        "news_dataset = news_dataset[news_dataset[\"content\"]!=\"데이터에서 찾은 AI 속보\"]\n",
        "news_dataset = news_dataset[news_dataset[\"content\"]!=\"씨에스윈드, 193억 원 규모 윈드타워 공급계약 체결\"]\n",
        "news_dataset = news_dataset[news_dataset[\"content\"]!=\"씨에스윈드, 1분기 영업이익 158억 원전년비 16.1%\"]\n",
        "\n",
        "del news_dataset[\"n_id\"]\n",
        "del news_dataset[\"date\"]\n",
        "del news_dataset[\"title\"]\n",
        "del news_dataset[\"ord\"]\n",
        "\n",
        "print(news_dataset.groupby(news_dataset[\"info\"]).size())\n",
        "print('문장의 개수 :', str(len(news_dataset))+'문장')\n",
        "print('문장의 최대 길이 :', str(max(len(l) for l in news_dataset['content']))+'글자')\n",
        "print('문장의 평균 길이 :', str(round(sum(map(len, news_dataset['content'])) / len(news_dataset['content'])))+'글자')\n",
        "\n",
        "plt.hist([len(s) for s in news_dataset['content']], bins=400)\n",
        "plt.xlim(0,300)\n",
        "plt.xlabel('length of Data')\n",
        "plt.ylabel('number of Data')\n",
        "plt.show()"
      ],
      "execution_count": null,
      "outputs": [
        {
          "output_type": "stream",
          "text": [
            "info\n",
            "0    71785\n",
            "1    46864\n",
            "dtype: int64\n",
            "문장의 개수 : 118649문장\n",
            "문장의 최대 길이 : 3469글자\n",
            "문장의 평균 길이 : 51글자\n"
          ],
          "name": "stdout"
        },
        {
          "output_type": "display_data",
          "data": {
            "image/png": "[encoded data removed]",
            "text/plain": [
              "<Figure size 432x288 with 1 Axes>"
            ]
          },
          "metadata": {
            "tags": []
          }
        }
      ]
    },
    {
      "cell_type": "markdown",
      "metadata": {
        "id": "UP2tD_N2yl-i"
      },
      "source": [
        "**중복 제거 후**"
      ]
    },
    {
      "cell_type": "code",
      "metadata": {
        "colab": {
          "base_uri": "https://localhost:8080/",
          "height": 398
        },
        "id": "MnBsN7CE5Y11",
        "outputId": "6b00747c-9128-4174-dab5-513f9c236d5a"
      },
      "source": [
        "import pandas as pd\n",
        "import matplotlib.pyplot as plt\n",
        "\n",
        "news_dataset_path = r\"/gdrive/My Drive/한양대학교/NH투자증권 빅데이터 경진대회/data/news_train.csv\"\n",
        "\n",
        "news_dataset = pd.read_csv(news_dataset_path)\n",
        "\n",
        "news_dataset = news_dataset[news_dataset[\"content\"]!=\"데이터에서 찾은 AI 속보\"]\n",
        "news_dataset = news_dataset[news_dataset[\"content\"]!=\"씨에스윈드, 193억 원 규모 윈드타워 공급계약 체결\"]\n",
        "news_dataset = news_dataset[news_dataset[\"content\"]!=\"씨에스윈드, 1분기 영업이익 158억 원전년비 16.1%\"]\n",
        "\n",
        "del news_dataset[\"n_id\"]\n",
        "del news_dataset[\"date\"]\n",
        "del news_dataset[\"title\"]\n",
        "del news_dataset[\"ord\"]\n",
        "\n",
        "news_dataset = news_dataset.drop_duplicates()\n",
        "\n",
        "print(news_dataset.groupby(news_dataset[\"info\"]).size())\n",
        "print('문장의 개수 :', str(len(news_dataset))+'문장')\n",
        "print('문장의 최대 길이 :', str(max(len(l) for l in news_dataset['content']))+'글자')\n",
        "print('문장의 평균 길이 :', str(round(sum(map(len, news_dataset['content'])) / len(news_dataset['content'])))+'글자')\n",
        "\n",
        "plt.hist([len(s) for s in news_dataset['content']], bins=400)\n",
        "plt.xlim(0,300)\n",
        "plt.xlabel('length of Data')\n",
        "plt.ylabel('number of Data')\n",
        "plt.show()"
      ],
      "execution_count": null,
      "outputs": [
        {
          "output_type": "stream",
          "text": [
            "info\n",
            "0    40367\n",
            "1     5791\n",
            "dtype: int64\n",
            "문장의 개수 : 46158문장\n",
            "문장의 최대 길이 : 3469글자\n",
            "문장의 평균 길이 : 63글자\n"
          ],
          "name": "stdout"
        },
        {
          "output_type": "display_data",
          "data": {
            "image/png": "[encoded data removed]",
            "text/plain": [
              "<Figure size 432x288 with 1 Axes>"
            ]
          },
          "metadata": {
            "tags": []
          }
        }
      ]
    },
    {
      "cell_type": "markdown",
      "metadata": {
        "id": "Cset5zumjlFX"
      },
      "source": [
        "**Length**"
      ]
    },
    {
      "cell_type": "code",
      "metadata": {
        "id": "qiBviP0Jjkry"
      },
      "source": [
        "import pandas as pd\n",
        "import matplotlib.pyplot as plt\n",
        "\n",
        "news_dataset_path = r\"/gdrive/My Drive/한양대학교/NH투자증권 빅데이터 경진대회/data/news_train.csv\"\n",
        "\n",
        "news_dataset = pd.read_csv(news_dataset_path)\n",
        "\n",
        "news_dataset = news_dataset[news_dataset[\"content\"]!=\"데이터에서 찾은 AI 속보\"]\n",
        "news_dataset = news_dataset[news_dataset[\"content\"]!=\"씨에스윈드, 193억 원 규모 윈드타워 공급계약 체결\"]\n",
        "news_dataset = news_dataset[news_dataset[\"content\"]!=\"씨에스윈드, 1분기 영업이익 158억 원전년비 16.1%\"]\n",
        "\n",
        "del news_dataset[\"n_id\"]\n",
        "del news_dataset[\"date\"]\n",
        "del news_dataset[\"title\"]\n",
        "del news_dataset[\"ord\"]\n",
        "\n",
        "news_dataset = news_dataset.drop_duplicates()\n",
        "\n",
        "news_dataset[\"len\"] = news_dataset[\"content\"].apply(lambda x : len(x))"
      ],
      "execution_count": null,
      "outputs": []
    },
    {
      "cell_type": "markdown",
      "metadata": {
        "id": "ujHPwX4fwvS0"
      },
      "source": [
        "**title + content**"
      ]
    },
    {
      "cell_type": "code",
      "metadata": {
        "colab": {
          "base_uri": "https://localhost:8080/",
          "height": 398
        },
        "id": "w3Hl64fmwuaT",
        "outputId": "3d454164-cd03-4175-ea69-968a0eef8c35"
      },
      "source": [
        "import pandas as pd\n",
        "import matplotlib.pyplot as plt\n",
        "\n",
        "news_dataset_path = r\"/gdrive/My Drive/한양대학교/NH투자증권 빅데이터 경진대회/data/news_train.csv\"\n",
        "\n",
        "news_dataset = pd.read_csv(news_dataset_path)\n",
        "\n",
        "news_dataset = news_dataset[news_dataset[\"content\"]!=\"데이터에서 찾은 AI 속보\"]\n",
        "news_dataset = news_dataset[news_dataset[\"content\"]!=\"씨에스윈드, 193억 원 규모 윈드타워 공급계약 체결\"]\n",
        "news_dataset = news_dataset[news_dataset[\"content\"]!=\"씨에스윈드, 1분기 영업이익 158억 원전년비 16.1%\"]\n",
        "\n",
        "news_dataset[\"content\"] = news_dataset[\"title\"] + \" \" + news_dataset[\"content\"]\n",
        "\n",
        "del news_dataset[\"n_id\"]\n",
        "del news_dataset[\"date\"]\n",
        "del news_dataset[\"title\"]\n",
        "del news_dataset[\"ord\"]\n",
        "\n",
        "news_dataset = news_dataset.drop_duplicates()\n",
        "\n",
        "print(news_dataset.groupby(news_dataset[\"info\"]).size())\n",
        "print('문장의 개수 :', str(len(news_dataset))+'문장')\n",
        "print('문장의 최대 길이 :', str(max(len(l) for l in news_dataset['content']))+'글자')\n",
        "print('문장의 평균 길이 :', str(round(sum(map(len, news_dataset['content'])) / len(news_dataset['content'])))+'글자')\n",
        "\n",
        "plt.hist([len(s) for s in news_dataset['content']], bins=400)\n",
        "plt.xlim(0,400)\n",
        "plt.xlabel('length of Data')\n",
        "plt.ylabel('number of Data')\n",
        "plt.show()"
      ],
      "execution_count": null,
      "outputs": [
        {
          "output_type": "stream",
          "text": [
            "info\n",
            "0    45385\n",
            "1    25501\n",
            "dtype: int64\n",
            "문장의 개수 : 70886문장\n",
            "문장의 최대 길이 : 3490글자\n",
            "문장의 평균 길이 : 85글자\n"
          ],
          "name": "stdout"
        },
        {
          "output_type": "display_data",
          "data": {
            "image/png": "[encoded data removed]",
            "text/plain": [
              "<Figure size 432x288 with 1 Axes>"
            ]
          },
          "metadata": {
            "tags": []
          }
        }
      ]
    },
    {
      "cell_type": "markdown",
      "metadata": {
        "id": "7oA9Z_8RspX2"
      },
      "source": [
        "# Data Preprocessing"
      ]
    },
    {
      "cell_type": "code",
      "metadata": {
        "id": "5PcoQPP2SiLl"
      },
      "source": [
        "max_len = 100"
      ],
      "execution_count": 1,
      "outputs": []
    },
    {
      "cell_type": "code",
      "metadata": {
        "id": "7a6JRqCn7vPy",
        "colab": {
          "base_uri": "https://localhost:8080/"
        },
        "outputId": "8fc1af30-9f8c-4ac8-b1a6-e59ded7144dc"
      },
      "source": [
        "import pandas as pd\n",
        "import re\n",
        "import copy\n",
        "from sklearn.model_selection import train_test_split\n",
        "from sklearn.preprocessing import MinMaxScaler\n",
        "from sklearn.preprocessing import LabelEncoder; LE = LabelEncoder()\n",
        "from tensorflow.keras.preprocessing import sequence\n",
        "from tensorflow.keras.utils import to_categorical\n",
        "from imblearn.over_sampling import SMOTE\n",
        "\n",
        "def convert_to_ord(data):\n",
        "    try:\n",
        "        return [ord(xx) for xx in data]\n",
        "    except:\n",
        "        print(data)\n",
        "\n",
        "news_dataset_path = r\"/gdrive/My Drive/한양대학교/NH투자증권 빅데이터 경진대회/data/news_train.csv\"\n",
        "\n",
        "news_dataset = pd.read_csv(news_dataset_path)\n",
        "\n",
        "news_dataset = news_dataset[news_dataset[\"content\"]!=\"데이터에서 찾은 AI 속보\"]\n",
        "news_dataset = news_dataset[news_dataset[\"content\"]!=\"씨에스윈드, 193억 원 규모 윈드타워 공급계약 체결\"]\n",
        "news_dataset = news_dataset[news_dataset[\"content\"]!=\"씨에스윈드, 1분기 영업이익 158억 원전년비 16.1%\"]\n",
        "\n",
        "#news_dataset[\"content\"] = news_dataset[\"title\"] + \" \" + news_dataset[\"content\"]\n",
        "\n",
        "del news_dataset[\"n_id\"]\n",
        "del news_dataset[\"date\"]\n",
        "del news_dataset[\"title\"]\n",
        "del news_dataset[\"ord\"]\n",
        "\n",
        "#news_dataset_0 = news_dataset[news_dataset[\"info\"]==0]\n",
        "\n",
        "#news_dataset_0 = pd.DataFrame(news_dataset_0.groupby(\"content\").size())\n",
        "\n",
        "#news_dataset_0 = news_dataset_0.reset_index()\n",
        "\n",
        "#news_dataset_0.columns = [\"content\", \"info\"]\n",
        "\n",
        "#news_dataset_0 = news_dataset_0[news_dataset_0[\"info\"]==1]\n",
        "\n",
        "#news_dataset_0[\"info\"] = 0\n",
        "\n",
        "#news_dataset_0 = news_dataset_0.drop_duplicates()\n",
        "\n",
        "#news_dataset_0 = news_dataset_0.sample(n=25501)\n",
        "\n",
        "#news_dataset_1 = news_dataset[news_dataset[\"info\"]==1]\n",
        "\n",
        "#news_dataset = pd.concat([news_dataset_0,news_dataset_1])\n",
        "\n",
        "news_dataset = news_dataset.drop_duplicates()\n",
        "\n",
        "#news_dataset[\"content\"] = news_dataset[\"content\"].apply(lambda x : ' '.join(re.sub(r'[^0-9a-zA-Zㄱ-ㅎㅏ-ㅣ가-힣]', ' ', x.strip()).split()))\n",
        "\n",
        "print(news_dataset.groupby(\"info\").size())\n",
        "\n",
        "news_dataset['content'] = news_dataset['content'].map(convert_to_ord)\n",
        "news_dataset['info'] = LE.fit_transform(news_dataset['info'])\n",
        "\n",
        "data = sequence.pad_sequences(news_dataset['content'], maxlen=max_len)\n",
        "\n",
        "#x_train = data\n",
        "#y_train = news_dataset['info']\n",
        "\n",
        "transformer = MinMaxScaler(feature_range=(0, 100))\n",
        "transformer.fit(data)\n",
        "data = transformer.transform(data)\n",
        "\n",
        "x_train, x_test, y_train, y_test = train_test_split(data, news_dataset['info'], test_size=0.1, random_state=42)\n",
        "\n",
        "#sm = SMOTE(random_state=42)\n",
        "#x_train, y_train = sm.fit_resample(x_train, y_train)\n",
        "\n",
        "y_true = copy.deepcopy(y_test)\n",
        "y_train = to_categorical(y_train)\n",
        "y_test = to_categorical(y_test)\n",
        "\n",
        "print('train_shape : {} / {}'.format(x_train.shape, y_train.shape))\n",
        "print('test_shape : {} / {}'.format(x_test.shape, y_test.shape))"
      ],
      "execution_count": 2,
      "outputs": [
        {
          "output_type": "stream",
          "text": [
            "/usr/local/lib/python3.6/dist-packages/sklearn/externals/six.py:31: FutureWarning: The module is deprecated in version 0.21 and will be removed in version 0.23 since we've dropped support for Python 2.7. Please rely on the official version of six (https://pypi.org/project/six/).\n",
            "  \"(https://pypi.org/project/six/).\", FutureWarning)\n",
            "/usr/local/lib/python3.6/dist-packages/sklearn/utils/deprecation.py:144: FutureWarning: The sklearn.neighbors.base module is  deprecated in version 0.22 and will be removed in version 0.24. The corresponding classes / functions should instead be imported from sklearn.neighbors. Anything that cannot be imported from sklearn.neighbors is now part of the private API.\n",
            "  warnings.warn(message, FutureWarning)\n"
          ],
          "name": "stderr"
        },
        {
          "output_type": "stream",
          "text": [
            "info\n",
            "0    40367\n",
            "1     5791\n",
            "dtype: int64\n"
          ],
          "name": "stdout"
        },
        {
          "output_type": "stream",
          "text": [
            "/usr/local/lib/python3.6/dist-packages/sklearn/utils/deprecation.py:87: FutureWarning: Function safe_indexing is deprecated; safe_indexing is deprecated in version 0.22 and will be removed in version 0.24.\n",
            "  warnings.warn(msg, category=FutureWarning)\n"
          ],
          "name": "stderr"
        },
        {
          "output_type": "stream",
          "text": [
            "train_shape : (72650, 100) / (72650, 2)\n",
            "test_shape : (4616, 100) / (4616, 2)\n"
          ],
          "name": "stdout"
        }
      ]
    },
    {
      "cell_type": "markdown",
      "metadata": {
        "id": "x6W4pPmEstmH"
      },
      "source": [
        "# MODEL"
      ]
    },
    {
      "cell_type": "markdown",
      "metadata": {
        "id": "E7B9QSU5yI0R"
      },
      "source": [
        "**Hyperparameter**"
      ]
    },
    {
      "cell_type": "code",
      "metadata": {
        "id": "giGqC8gcvhIR"
      },
      "source": [
        "output_dim = 400\n",
        "filters = 400\n",
        "filter_sizes = [2, 3, 4, 5]\n",
        "epochs = 2**10\n",
        "batch_size = 2**10"
      ],
      "execution_count": 3,
      "outputs": []
    },
    {
      "cell_type": "markdown",
      "metadata": {
        "id": "SzMxWVpayOs-"
      },
      "source": [
        "**CNN**"
      ]
    },
    {
      "cell_type": "code",
      "metadata": {
        "id": "jVyipihjfxER",
        "colab": {
          "base_uri": "https://localhost:8080/"
        },
        "outputId": "f5049e6c-d928-4816-9570-f9226cb5d1bb"
      },
      "source": [
        "import tensorflow as tf\n",
        "from tensorflow.keras.models import Model, Sequential\n",
        "from tensorflow.keras.layers import Input, Conv2D, Activation, MaxPooling2D, concatenate, Embedding, Reshape, Flatten, Dense, Dropout, LSTM, Bidirectional\n",
        "from tensorflow.keras import optimizers\n",
        "from tensorflow.keras.callbacks import EarlyStopping, ModelCheckpoint\n",
        "\n",
        "def convolution():\n",
        "    inn = Input(shape = (max_len, output_dim, 1))\n",
        "    convolutions = []\n",
        "    for fs in filter_sizes:\n",
        "        conv = Conv2D(filters = filters, kernel_size = (fs, output_dim), strides = 1, padding = \"valid\")(inn)\n",
        "        nonlinearity = Activation('relu')(conv)\n",
        "        maxpool = MaxPooling2D(pool_size = (max_len - fs + 1, 1), padding = \"valid\")(nonlinearity)\n",
        "        convolutions.append(maxpool)\n",
        "    outt = concatenate(convolutions)\n",
        "    model = Model(inputs = inn, outputs = outt)\n",
        "    return model\n",
        "\n",
        "def conv2d_cnn():\n",
        "    model = Sequential()\n",
        "    model.add(Embedding(input_dim=2**16, output_dim=output_dim, input_length=max_len))\n",
        "    model.add(Reshape((max_len, output_dim, 1), input_shape=(max_len, output_dim)))\n",
        "    model.add(convolution())\n",
        "    model.add(Flatten())\n",
        "\n",
        "    model.add(Reshape((filters*len(filter_sizes), 1), input_shape=(filters*len(filter_sizes), )))\n",
        "\n",
        "    model.add(Bidirectional(LSTM(2 ** 5, return_sequences=False)))\n",
        "\n",
        "    model.add(Dense(2))\n",
        "    model.add(Activation('sigmoid'))\n",
        "    adam = optimizers.Adam(lr=0.0001)\n",
        "    model.compile(loss='binary_crossentropy', optimizer=adam, metrics=['accuracy'])\n",
        "    model.summary()\n",
        "    early_stopping = EarlyStopping(monitor=\"val_loss\", patience=5)\n",
        "    modelcheckpoint = ModelCheckpoint('/gdrive/My Drive/한양대학교/NH투자증권 빅데이터 경진대회/model/news_model.h5', monitor='val_loss', mode='min', save_best_only=True)\n",
        "    history = model.fit(x_train, y_train, validation_split=0.2, epochs=epochs, batch_size=batch_size, verbose=1, callbacks=[early_stopping,modelcheckpoint])\n",
        "\n",
        "    return model, history\n",
        "\n",
        "if __name__ == \"__main__\":\n",
        "\n",
        "    with tf.device('/device:GPU:0'):\n",
        "        model, history = conv2d_cnn()"
      ],
      "execution_count": 4,
      "outputs": [
        {
          "output_type": "stream",
          "text": [
            "Model: \"sequential\"\n",
            "_________________________________________________________________\n",
            "Layer (type)                 Output Shape              Param #   \n",
            "=================================================================\n",
            "embedding (Embedding)        (None, 100, 400)          26214400  \n",
            "_________________________________________________________________\n",
            "reshape (Reshape)            (None, 100, 400, 1)       0         \n",
            "_________________________________________________________________\n",
            "functional_1 (Functional)    (None, 1, 1, 1600)        2241600   \n",
            "_________________________________________________________________\n",
            "flatten (Flatten)            (None, 1600)              0         \n",
            "_________________________________________________________________\n",
            "reshape_1 (Reshape)          (None, 1600, 1)           0         \n",
            "_________________________________________________________________\n",
            "bidirectional (Bidirectional (None, 64)                8704      \n",
            "_________________________________________________________________\n",
            "dense (Dense)                (None, 2)                 130       \n",
            "_________________________________________________________________\n",
            "activation_4 (Activation)    (None, 2)                 0         \n",
            "=================================================================\n",
            "Total params: 28,464,834\n",
            "Trainable params: 28,464,834\n",
            "Non-trainable params: 0\n",
            "_________________________________________________________________\n",
            "Epoch 1/1024\n",
            "57/57 [==============================] - 50s 870ms/step - loss: 0.6885 - accuracy: 0.6212 - val_loss: 0.7373 - val_accuracy: 0.0000e+00\n",
            "Epoch 2/1024\n",
            "57/57 [==============================] - 47s 818ms/step - loss: 0.6639 - accuracy: 0.6250 - val_loss: 0.9013 - val_accuracy: 0.0000e+00\n",
            "Epoch 3/1024\n",
            "57/57 [==============================] - 47s 816ms/step - loss: 0.6123 - accuracy: 0.6250 - val_loss: 0.9525 - val_accuracy: 0.0000e+00\n",
            "Epoch 4/1024\n",
            "57/57 [==============================] - 46s 815ms/step - loss: 0.4852 - accuracy: 0.7078 - val_loss: 0.7709 - val_accuracy: 0.8333\n",
            "Epoch 5/1024\n",
            "57/57 [==============================] - 49s 859ms/step - loss: 0.3729 - accuracy: 0.8787 - val_loss: 0.6479 - val_accuracy: 0.8579\n",
            "Epoch 6/1024\n",
            "57/57 [==============================] - 49s 858ms/step - loss: 0.3322 - accuracy: 0.8844 - val_loss: 0.4239 - val_accuracy: 0.9710\n",
            "Epoch 7/1024\n",
            "57/57 [==============================] - 49s 854ms/step - loss: 0.2978 - accuracy: 0.8921 - val_loss: 0.3372 - val_accuracy: 0.9789\n",
            "Epoch 8/1024\n",
            "57/57 [==============================] - 49s 862ms/step - loss: 0.2692 - accuracy: 0.9024 - val_loss: 0.2812 - val_accuracy: 0.9800\n",
            "Epoch 9/1024\n",
            "57/57 [==============================] - 49s 856ms/step - loss: 0.2460 - accuracy: 0.9122 - val_loss: 0.2316 - val_accuracy: 0.9874\n",
            "Epoch 10/1024\n",
            "57/57 [==============================] - 49s 856ms/step - loss: 0.2406 - accuracy: 0.9120 - val_loss: 0.2208 - val_accuracy: 0.9840\n",
            "Epoch 11/1024\n",
            "57/57 [==============================] - 49s 855ms/step - loss: 0.2219 - accuracy: 0.9177 - val_loss: 0.1980 - val_accuracy: 0.9783\n",
            "Epoch 12/1024\n",
            "57/57 [==============================] - 49s 854ms/step - loss: 0.2109 - accuracy: 0.9194 - val_loss: 0.1740 - val_accuracy: 0.9825\n",
            "Epoch 13/1024\n",
            "57/57 [==============================] - 49s 851ms/step - loss: 0.1958 - accuracy: 0.9260 - val_loss: 0.1392 - val_accuracy: 0.9935\n",
            "Epoch 14/1024\n",
            "57/57 [==============================] - 49s 864ms/step - loss: 0.1881 - accuracy: 0.9271 - val_loss: 0.1278 - val_accuracy: 0.9917\n",
            "Epoch 15/1024\n",
            "57/57 [==============================] - 49s 852ms/step - loss: 0.1813 - accuracy: 0.9293 - val_loss: 0.1092 - val_accuracy: 0.9945\n",
            "Epoch 16/1024\n",
            "57/57 [==============================] - 49s 852ms/step - loss: 0.1798 - accuracy: 0.9274 - val_loss: 0.1065 - val_accuracy: 0.9929\n",
            "Epoch 17/1024\n",
            "57/57 [==============================] - 49s 853ms/step - loss: 0.1713 - accuracy: 0.9313 - val_loss: 0.1016 - val_accuracy: 0.9910\n",
            "Epoch 18/1024\n",
            "57/57 [==============================] - 49s 852ms/step - loss: 0.1669 - accuracy: 0.9318 - val_loss: 0.0906 - val_accuracy: 0.9926\n",
            "Epoch 19/1024\n",
            "57/57 [==============================] - 49s 858ms/step - loss: 0.1607 - accuracy: 0.9355 - val_loss: 0.0807 - val_accuracy: 0.9942\n",
            "Epoch 20/1024\n",
            "57/57 [==============================] - 49s 857ms/step - loss: 0.1584 - accuracy: 0.9328 - val_loss: 0.0792 - val_accuracy: 0.9935\n",
            "Epoch 21/1024\n",
            "57/57 [==============================] - 49s 851ms/step - loss: 0.1542 - accuracy: 0.9361 - val_loss: 0.0669 - val_accuracy: 0.9966\n",
            "Epoch 22/1024\n",
            "57/57 [==============================] - 46s 813ms/step - loss: 0.1546 - accuracy: 0.9319 - val_loss: 0.0672 - val_accuracy: 0.9956\n",
            "Epoch 23/1024\n",
            "57/57 [==============================] - 49s 856ms/step - loss: 0.1515 - accuracy: 0.9312 - val_loss: 0.0629 - val_accuracy: 0.9963\n",
            "Epoch 24/1024\n",
            "57/57 [==============================] - 49s 853ms/step - loss: 0.1495 - accuracy: 0.9341 - val_loss: 0.0580 - val_accuracy: 0.9968\n",
            "Epoch 25/1024\n",
            "57/57 [==============================] - 49s 851ms/step - loss: 0.1488 - accuracy: 0.9341 - val_loss: 0.0547 - val_accuracy: 0.9979\n",
            "Epoch 26/1024\n",
            "57/57 [==============================] - 46s 813ms/step - loss: 0.1450 - accuracy: 0.9334 - val_loss: 0.0557 - val_accuracy: 0.9970\n",
            "Epoch 27/1024\n",
            "57/57 [==============================] - 46s 813ms/step - loss: 0.1509 - accuracy: 0.9319 - val_loss: 0.0556 - val_accuracy: 0.9955\n",
            "Epoch 28/1024\n",
            "57/57 [==============================] - 49s 857ms/step - loss: 0.1400 - accuracy: 0.9376 - val_loss: 0.0494 - val_accuracy: 0.9974\n",
            "Epoch 29/1024\n",
            "57/57 [==============================] - 46s 814ms/step - loss: 0.1388 - accuracy: 0.9373 - val_loss: 0.0544 - val_accuracy: 0.9947\n",
            "Epoch 30/1024\n",
            "57/57 [==============================] - 46s 813ms/step - loss: 0.1493 - accuracy: 0.9314 - val_loss: 0.0571 - val_accuracy: 0.9917\n",
            "Epoch 31/1024\n",
            "57/57 [==============================] - 46s 813ms/step - loss: 0.1431 - accuracy: 0.9347 - val_loss: 0.0497 - val_accuracy: 0.9954\n",
            "Epoch 32/1024\n",
            "57/57 [==============================] - 46s 813ms/step - loss: 0.1460 - accuracy: 0.9340 - val_loss: 0.0646 - val_accuracy: 0.9841\n",
            "Epoch 33/1024\n",
            "57/57 [==============================] - 46s 813ms/step - loss: 0.1480 - accuracy: 0.9316 - val_loss: 0.0504 - val_accuracy: 0.9946\n"
          ],
          "name": "stdout"
        }
      ]
    },
    {
      "cell_type": "markdown",
      "metadata": {
        "id": "NVqt1MobyTNC"
      },
      "source": [
        "**Graph**"
      ]
    },
    {
      "cell_type": "code",
      "metadata": {
        "id": "83ONSjmhv7p0",
        "colab": {
          "base_uri": "https://localhost:8080/",
          "height": 573
        },
        "outputId": "c472eb97-88cf-4171-86f3-b422a301d7b7"
      },
      "source": [
        "import matplotlib.pyplot as plt\n",
        "\n",
        "acc = history.history['accuracy']\n",
        "val_acc = history.history['val_accuracy']\n",
        "loss = history.history['loss']\n",
        "val_loss = history.history['val_loss']\n",
        "epochs = range(1, len(acc) + 1)\n",
        "\n",
        "plt.plot(epochs, loss, 'r', label='Training loss')\n",
        "plt.plot(epochs, val_loss, 'b', label='Validation loss')\n",
        "plt.title('Training and validation loss')\n",
        "plt.xlabel('Epochs')\n",
        "plt.ylabel('Loss')\n",
        "plt.legend()\n",
        "plt.figure()\n",
        "plt.plot(epochs, acc, 'r', label='Training acc')\n",
        "plt.plot(epochs, val_acc, 'b', label='Validation acc')\n",
        "plt.title('Training and validation accuracy')\n",
        "plt.xlabel('Epochs')\n",
        "plt.ylabel('Accuracy')\n",
        "plt.legend()\n",
        "plt.show()"
      ],
      "execution_count": 5,
      "outputs": [
        {
          "output_type": "display_data",
          "data": {
            "image/png": "[encoded data removed]",
            "text/plain": [
              "<Figure size 432x288 with 1 Axes>"
            ]
          },
          "metadata": {
            "tags": [],
            "needs_background": "light"
          }
        },
        {
          "output_type": "display_data",
          "data": {
            "image/png": "[encoded data removed]",
            "text/plain": [
              "<Figure size 432x288 with 1 Axes>"
            ]
          },
          "metadata": {
            "tags": [],
            "needs_background": "light"
          }
        }
      ]
    },
    {
      "cell_type": "markdown",
      "metadata": {
        "id": "Gw4QGgd6yI3A"
      },
      "source": [
        "**TEST**"
      ]
    },
    {
      "cell_type": "code",
      "metadata": {
        "id": "G1LOMHpfxf2x",
        "colab": {
          "base_uri": "https://localhost:8080/"
        },
        "outputId": "0c38e851-b24b-4925-e028-e8b3fe778101"
      },
      "source": [
        "from tensorflow.keras.models import load_model\n",
        "from sklearn.metrics import classification_report\n",
        "\n",
        "model = load_model('/gdrive/My Drive/한양대학교/NH투자증권 빅데이터 경진대회/model/news_model.h5')\n",
        "\n",
        "scores = model.evaluate(x_test, y_test)\n",
        "print(scores)\n",
        "print(\"정확도: %.2f%%\" % (scores[1] * 100))\n",
        "\n",
        "y_true = list(y_true)\n",
        "y_pred = model.predict_classes(x_test)\n",
        "y_pred = list(y_pred)\n",
        "\n",
        "print(classification_report(y_true, y_pred))\n",
        "print(pd.crosstab(pd.Series(y_true), pd.Series(y_pred), rownames=['True'], colnames=['Predicted']))"
      ],
      "execution_count": 6,
      "outputs": [
        {
          "output_type": "stream",
          "text": [
            "145/145 [==============================] - 7s 47ms/step - loss: 0.1975 - accuracy: 0.9001\n",
            "[0.19754591584205627, 0.9001299738883972]\n",
            "정확도: 90.01%\n",
            "WARNING:tensorflow:From <ipython-input-6-985711ce3a6b>:11: Sequential.predict_classes (from tensorflow.python.keras.engine.sequential) is deprecated and will be removed after 2021-01-01.\n",
            "Instructions for updating:\n",
            "Please use instead:* `np.argmax(model.predict(x), axis=-1)`,   if your model does multi-class classification   (e.g. if it uses a `softmax` last-layer activation).* `(model.predict(x) > 0.5).astype(\"int32\")`,   if your model does binary classification   (e.g. if it uses a `sigmoid` last-layer activation).\n",
            "              precision    recall  f1-score   support\n",
            "\n",
            "           0       0.99      0.90      0.94      4042\n",
            "           1       0.56      0.90      0.69       574\n",
            "\n",
            "    accuracy                           0.90      4616\n",
            "   macro avg       0.77      0.90      0.82      4616\n",
            "weighted avg       0.93      0.90      0.91      4616\n",
            "\n",
            "Predicted     0    1\n",
            "True                \n",
            "0          3636  406\n",
            "1            55  519\n"
          ],
          "name": "stdout"
        }
      ]
    },
    {
      "cell_type": "markdown",
      "metadata": {
        "id": "T5HzHzCrtBao"
      },
      "source": [
        "# RESULT"
      ]
    },
    {
      "cell_type": "code",
      "metadata": {
        "colab": {
          "base_uri": "https://localhost:8080/"
        },
        "id": "AgMCQdL5VEXB",
        "outputId": "accb6a79-dd55-4e45-adc2-8950e415ca34"
      },
      "source": [
        "import pandas as pd\n",
        "import numpy as np\n",
        "from tensorflow.keras.preprocessing import sequence\n",
        "from tensorflow.keras.models import load_model\n",
        "\n",
        "def convert_to_ord(data):\n",
        "    try:\n",
        "        return [ord(xx) for xx in data]\n",
        "    except:\n",
        "        print(data)\n",
        "\n",
        "news_dataset_test = pd.read_csv(\"/gdrive/My Drive/한양대학교/NH투자증권 빅데이터 경진대회/data/news_test.csv\")\n",
        "\n",
        "#news_dataset_test[\"content\"] = news_dataset_test[\"title\"] + \" \" + news_dataset_test[\"content\"]\n",
        "\n",
        "del news_dataset_test[\"n_id\"]\n",
        "del news_dataset_test[\"date\"]\n",
        "del news_dataset_test[\"title\"]\n",
        "del news_dataset_test[\"ord\"]\n",
        "\n",
        "model = load_model('/gdrive/My Drive/한양대학교/NH투자증권 빅데이터 경진대회/model/news_model.h5')\n",
        "\n",
        "x_test = sequence.pad_sequences(news_dataset_test['content'].map(convert_to_ord), maxlen=max_len)\n",
        "\n",
        "transformer = MinMaxScaler(feature_range=(0, 100))\n",
        "transformer.fit(x_test)\n",
        "x_test = transformer.transform(x_test)\n",
        "\n",
        "news_dataset_test[\"info\"] = model.predict_classes(x_test)\n",
        "\n",
        "print(news_dataset_test.groupby(\"info\").size())"
      ],
      "execution_count": 7,
      "outputs": [
        {
          "output_type": "stream",
          "text": [
            "info\n",
            "0    74906\n",
            "1    67659\n",
            "dtype: int64\n"
          ],
          "name": "stdout"
        }
      ]
    },
    {
      "cell_type": "code",
      "metadata": {
        "id": "Xv8DCyXNVNFt"
      },
      "source": [
        "news_dataset_test = news_dataset_test[[\"id\",\"info\"]]\n",
        "\n",
        "news_dataset_test.to_csv(\"/gdrive/My Drive/한양대학교/NH투자증권 빅데이터 경진대회/result/sample_submission.csv\", index=False)"
      ],
      "execution_count": 8,
      "outputs": []
    }
  ]
}